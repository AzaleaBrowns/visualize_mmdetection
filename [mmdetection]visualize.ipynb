{
  "nbformat": 4,
  "nbformat_minor": 0,
  "metadata": {
    "accelerator": "GPU",
    "colab": {
      "name": "[mmdetection]visualize.ipynb",
      "provenance": [],
      "collapsed_sections": [],
      "machine_shape": "hm",
      "include_colab_link": true
    },
    "kernelspec": {
      "display_name": "Python 3",
      "name": "python3"
    },
    "widgets": {
      "application/vnd.jupyter.widget-state+json": {
        "2f50b76f47354c6cbc05e14843c0e044": {
          "model_module": "@jupyter-widgets/controls",
          "model_name": "HBoxModel",
          "model_module_version": "1.5.0",
          "state": {
            "_view_name": "HBoxView",
            "_dom_classes": [],
            "_model_name": "HBoxModel",
            "_view_module": "@jupyter-widgets/controls",
            "_model_module_version": "1.5.0",
            "_view_count": null,
            "_view_module_version": "1.5.0",
            "box_style": "",
            "layout": "IPY_MODEL_50acfa956ffc4aaab27f3afbe5a16684",
            "_model_module": "@jupyter-widgets/controls",
            "children": [
              "IPY_MODEL_165462ed77f54821947009be3fad9d47",
              "IPY_MODEL_13a43edddc1647f4bc775eaa474b6cd6",
              "IPY_MODEL_2dda35c79bdc432ea075753096a94de4"
            ]
          }
        },
        "50acfa956ffc4aaab27f3afbe5a16684": {
          "model_module": "@jupyter-widgets/base",
          "model_name": "LayoutModel",
          "model_module_version": "1.2.0",
          "state": {
            "_view_name": "LayoutView",
            "grid_template_rows": null,
            "right": null,
            "justify_content": null,
            "_view_module": "@jupyter-widgets/base",
            "overflow": null,
            "_model_module_version": "1.2.0",
            "_view_count": null,
            "flex_flow": null,
            "width": null,
            "min_width": null,
            "border": null,
            "align_items": null,
            "bottom": null,
            "_model_module": "@jupyter-widgets/base",
            "top": null,
            "grid_column": null,
            "overflow_y": null,
            "overflow_x": null,
            "grid_auto_flow": null,
            "grid_area": null,
            "grid_template_columns": null,
            "flex": null,
            "_model_name": "LayoutModel",
            "justify_items": null,
            "grid_row": null,
            "max_height": null,
            "align_content": null,
            "visibility": null,
            "align_self": null,
            "height": null,
            "min_height": null,
            "padding": null,
            "grid_auto_rows": null,
            "grid_gap": null,
            "max_width": null,
            "order": null,
            "_view_module_version": "1.2.0",
            "grid_template_areas": null,
            "object_position": null,
            "object_fit": null,
            "grid_auto_columns": null,
            "margin": null,
            "display": null,
            "left": null
          }
        },
        "165462ed77f54821947009be3fad9d47": {
          "model_module": "@jupyter-widgets/controls",
          "model_name": "HTMLModel",
          "model_module_version": "1.5.0",
          "state": {
            "_view_name": "HTMLView",
            "style": "IPY_MODEL_5b608d4bd1094f5da6f606290616ca7e",
            "_dom_classes": [],
            "description": "",
            "_model_name": "HTMLModel",
            "placeholder": "​",
            "_view_module": "@jupyter-widgets/controls",
            "_model_module_version": "1.5.0",
            "value": "100%",
            "_view_count": null,
            "_view_module_version": "1.5.0",
            "description_tooltip": null,
            "_model_module": "@jupyter-widgets/controls",
            "layout": "IPY_MODEL_f7fe01c195a04ef6a59e6706ed310412"
          }
        },
        "13a43edddc1647f4bc775eaa474b6cd6": {
          "model_module": "@jupyter-widgets/controls",
          "model_name": "FloatProgressModel",
          "model_module_version": "1.5.0",
          "state": {
            "_view_name": "ProgressView",
            "style": "IPY_MODEL_6e1a02f2adc9498aaac8d07d10ea7808",
            "_dom_classes": [],
            "description": "",
            "_model_name": "FloatProgressModel",
            "bar_style": "success",
            "max": 14519,
            "_view_module": "@jupyter-widgets/controls",
            "_model_module_version": "1.5.0",
            "value": 14519,
            "_view_count": null,
            "_view_module_version": "1.5.0",
            "orientation": "horizontal",
            "min": 0,
            "description_tooltip": null,
            "_model_module": "@jupyter-widgets/controls",
            "layout": "IPY_MODEL_24da975227e84677b711f8670969f136"
          }
        },
        "2dda35c79bdc432ea075753096a94de4": {
          "model_module": "@jupyter-widgets/controls",
          "model_name": "HTMLModel",
          "model_module_version": "1.5.0",
          "state": {
            "_view_name": "HTMLView",
            "style": "IPY_MODEL_57b9a4acd59b4914b74563299e74e156",
            "_dom_classes": [],
            "description": "",
            "_model_name": "HTMLModel",
            "placeholder": "​",
            "_view_module": "@jupyter-widgets/controls",
            "_model_module_version": "1.5.0",
            "value": " 14519/14519 [1:20:26&lt;00:00,  2.71it/s]",
            "_view_count": null,
            "_view_module_version": "1.5.0",
            "description_tooltip": null,
            "_model_module": "@jupyter-widgets/controls",
            "layout": "IPY_MODEL_7b723add71e7449f897fb1f9145d660e"
          }
        },
        "5b608d4bd1094f5da6f606290616ca7e": {
          "model_module": "@jupyter-widgets/controls",
          "model_name": "DescriptionStyleModel",
          "model_module_version": "1.5.0",
          "state": {
            "_view_name": "StyleView",
            "_model_name": "DescriptionStyleModel",
            "description_width": "",
            "_view_module": "@jupyter-widgets/base",
            "_model_module_version": "1.5.0",
            "_view_count": null,
            "_view_module_version": "1.2.0",
            "_model_module": "@jupyter-widgets/controls"
          }
        },
        "f7fe01c195a04ef6a59e6706ed310412": {
          "model_module": "@jupyter-widgets/base",
          "model_name": "LayoutModel",
          "model_module_version": "1.2.0",
          "state": {
            "_view_name": "LayoutView",
            "grid_template_rows": null,
            "right": null,
            "justify_content": null,
            "_view_module": "@jupyter-widgets/base",
            "overflow": null,
            "_model_module_version": "1.2.0",
            "_view_count": null,
            "flex_flow": null,
            "width": null,
            "min_width": null,
            "border": null,
            "align_items": null,
            "bottom": null,
            "_model_module": "@jupyter-widgets/base",
            "top": null,
            "grid_column": null,
            "overflow_y": null,
            "overflow_x": null,
            "grid_auto_flow": null,
            "grid_area": null,
            "grid_template_columns": null,
            "flex": null,
            "_model_name": "LayoutModel",
            "justify_items": null,
            "grid_row": null,
            "max_height": null,
            "align_content": null,
            "visibility": null,
            "align_self": null,
            "height": null,
            "min_height": null,
            "padding": null,
            "grid_auto_rows": null,
            "grid_gap": null,
            "max_width": null,
            "order": null,
            "_view_module_version": "1.2.0",
            "grid_template_areas": null,
            "object_position": null,
            "object_fit": null,
            "grid_auto_columns": null,
            "margin": null,
            "display": null,
            "left": null
          }
        },
        "6e1a02f2adc9498aaac8d07d10ea7808": {
          "model_module": "@jupyter-widgets/controls",
          "model_name": "ProgressStyleModel",
          "model_module_version": "1.5.0",
          "state": {
            "_view_name": "StyleView",
            "_model_name": "ProgressStyleModel",
            "description_width": "",
            "_view_module": "@jupyter-widgets/base",
            "_model_module_version": "1.5.0",
            "_view_count": null,
            "_view_module_version": "1.2.0",
            "bar_color": null,
            "_model_module": "@jupyter-widgets/controls"
          }
        },
        "24da975227e84677b711f8670969f136": {
          "model_module": "@jupyter-widgets/base",
          "model_name": "LayoutModel",
          "model_module_version": "1.2.0",
          "state": {
            "_view_name": "LayoutView",
            "grid_template_rows": null,
            "right": null,
            "justify_content": null,
            "_view_module": "@jupyter-widgets/base",
            "overflow": null,
            "_model_module_version": "1.2.0",
            "_view_count": null,
            "flex_flow": null,
            "width": null,
            "min_width": null,
            "border": null,
            "align_items": null,
            "bottom": null,
            "_model_module": "@jupyter-widgets/base",
            "top": null,
            "grid_column": null,
            "overflow_y": null,
            "overflow_x": null,
            "grid_auto_flow": null,
            "grid_area": null,
            "grid_template_columns": null,
            "flex": null,
            "_model_name": "LayoutModel",
            "justify_items": null,
            "grid_row": null,
            "max_height": null,
            "align_content": null,
            "visibility": null,
            "align_self": null,
            "height": null,
            "min_height": null,
            "padding": null,
            "grid_auto_rows": null,
            "grid_gap": null,
            "max_width": null,
            "order": null,
            "_view_module_version": "1.2.0",
            "grid_template_areas": null,
            "object_position": null,
            "object_fit": null,
            "grid_auto_columns": null,
            "margin": null,
            "display": null,
            "left": null
          }
        },
        "57b9a4acd59b4914b74563299e74e156": {
          "model_module": "@jupyter-widgets/controls",
          "model_name": "DescriptionStyleModel",
          "model_module_version": "1.5.0",
          "state": {
            "_view_name": "StyleView",
            "_model_name": "DescriptionStyleModel",
            "description_width": "",
            "_view_module": "@jupyter-widgets/base",
            "_model_module_version": "1.5.0",
            "_view_count": null,
            "_view_module_version": "1.2.0",
            "_model_module": "@jupyter-widgets/controls"
          }
        },
        "7b723add71e7449f897fb1f9145d660e": {
          "model_module": "@jupyter-widgets/base",
          "model_name": "LayoutModel",
          "model_module_version": "1.2.0",
          "state": {
            "_view_name": "LayoutView",
            "grid_template_rows": null,
            "right": null,
            "justify_content": null,
            "_view_module": "@jupyter-widgets/base",
            "overflow": null,
            "_model_module_version": "1.2.0",
            "_view_count": null,
            "flex_flow": null,
            "width": null,
            "min_width": null,
            "border": null,
            "align_items": null,
            "bottom": null,
            "_model_module": "@jupyter-widgets/base",
            "top": null,
            "grid_column": null,
            "overflow_y": null,
            "overflow_x": null,
            "grid_auto_flow": null,
            "grid_area": null,
            "grid_template_columns": null,
            "flex": null,
            "_model_name": "LayoutModel",
            "justify_items": null,
            "grid_row": null,
            "max_height": null,
            "align_content": null,
            "visibility": null,
            "align_self": null,
            "height": null,
            "min_height": null,
            "padding": null,
            "grid_auto_rows": null,
            "grid_gap": null,
            "max_width": null,
            "order": null,
            "_view_module_version": "1.2.0",
            "grid_template_areas": null,
            "object_position": null,
            "object_fit": null,
            "grid_auto_columns": null,
            "margin": null,
            "display": null,
            "left": null
          }
        },
        "fcd469e5a9ca4812a2d3e8e117d3e984": {
          "model_module": "@jupyter-widgets/controls",
          "model_name": "HBoxModel",
          "model_module_version": "1.5.0",
          "state": {
            "_view_name": "HBoxView",
            "_dom_classes": [],
            "_model_name": "HBoxModel",
            "_view_module": "@jupyter-widgets/controls",
            "_model_module_version": "1.5.0",
            "_view_count": null,
            "_view_module_version": "1.5.0",
            "box_style": "",
            "layout": "IPY_MODEL_4cd75374768445e8968107782ba56ddb",
            "_model_module": "@jupyter-widgets/controls",
            "children": [
              "IPY_MODEL_6c186704fa3f4b7b9a40f507e6f38ca0",
              "IPY_MODEL_85c1ff6511fe4783aff67dbeb2b07c31",
              "IPY_MODEL_780f009c852548ff85b23dbab377cdd2"
            ]
          }
        },
        "4cd75374768445e8968107782ba56ddb": {
          "model_module": "@jupyter-widgets/base",
          "model_name": "LayoutModel",
          "model_module_version": "1.2.0",
          "state": {
            "_view_name": "LayoutView",
            "grid_template_rows": null,
            "right": null,
            "justify_content": null,
            "_view_module": "@jupyter-widgets/base",
            "overflow": null,
            "_model_module_version": "1.2.0",
            "_view_count": null,
            "flex_flow": null,
            "width": null,
            "min_width": null,
            "border": null,
            "align_items": null,
            "bottom": null,
            "_model_module": "@jupyter-widgets/base",
            "top": null,
            "grid_column": null,
            "overflow_y": null,
            "overflow_x": null,
            "grid_auto_flow": null,
            "grid_area": null,
            "grid_template_columns": null,
            "flex": null,
            "_model_name": "LayoutModel",
            "justify_items": null,
            "grid_row": null,
            "max_height": null,
            "align_content": null,
            "visibility": null,
            "align_self": null,
            "height": null,
            "min_height": null,
            "padding": null,
            "grid_auto_rows": null,
            "grid_gap": null,
            "max_width": null,
            "order": null,
            "_view_module_version": "1.2.0",
            "grid_template_areas": null,
            "object_position": null,
            "object_fit": null,
            "grid_auto_columns": null,
            "margin": null,
            "display": null,
            "left": null
          }
        },
        "6c186704fa3f4b7b9a40f507e6f38ca0": {
          "model_module": "@jupyter-widgets/controls",
          "model_name": "HTMLModel",
          "model_module_version": "1.5.0",
          "state": {
            "_view_name": "HTMLView",
            "style": "IPY_MODEL_1985e877ff6c454fb7d08b3c08faf05c",
            "_dom_classes": [],
            "description": "",
            "_model_name": "HTMLModel",
            "placeholder": "​",
            "_view_module": "@jupyter-widgets/controls",
            "_model_module_version": "1.5.0",
            "value": "100%",
            "_view_count": null,
            "_view_module_version": "1.5.0",
            "description_tooltip": null,
            "_model_module": "@jupyter-widgets/controls",
            "layout": "IPY_MODEL_fc8b399b38e14f1cac232a5a17c4607f"
          }
        },
        "85c1ff6511fe4783aff67dbeb2b07c31": {
          "model_module": "@jupyter-widgets/controls",
          "model_name": "FloatProgressModel",
          "model_module_version": "1.5.0",
          "state": {
            "_view_name": "ProgressView",
            "style": "IPY_MODEL_9e448df8834f490ea14b04cf7bbf3f50",
            "_dom_classes": [],
            "description": "",
            "_model_name": "FloatProgressModel",
            "bar_style": "success",
            "max": 29040,
            "_view_module": "@jupyter-widgets/controls",
            "_model_module_version": "1.5.0",
            "value": 29040,
            "_view_count": null,
            "_view_module_version": "1.5.0",
            "orientation": "horizontal",
            "min": 0,
            "description_tooltip": null,
            "_model_module": "@jupyter-widgets/controls",
            "layout": "IPY_MODEL_a457cbdf558f4c76984bfd31d56cbadc"
          }
        },
        "780f009c852548ff85b23dbab377cdd2": {
          "model_module": "@jupyter-widgets/controls",
          "model_name": "HTMLModel",
          "model_module_version": "1.5.0",
          "state": {
            "_view_name": "HTMLView",
            "style": "IPY_MODEL_5bc8f78b36154459bcbed67e3d38a7ab",
            "_dom_classes": [],
            "description": "",
            "_model_name": "HTMLModel",
            "placeholder": "​",
            "_view_module": "@jupyter-widgets/controls",
            "_model_module_version": "1.5.0",
            "value": " 29040/29040 [10:37&lt;00:00, 52.64it/s]",
            "_view_count": null,
            "_view_module_version": "1.5.0",
            "description_tooltip": null,
            "_model_module": "@jupyter-widgets/controls",
            "layout": "IPY_MODEL_56b06775779d4e07909363def200d4aa"
          }
        },
        "1985e877ff6c454fb7d08b3c08faf05c": {
          "model_module": "@jupyter-widgets/controls",
          "model_name": "DescriptionStyleModel",
          "model_module_version": "1.5.0",
          "state": {
            "_view_name": "StyleView",
            "_model_name": "DescriptionStyleModel",
            "description_width": "",
            "_view_module": "@jupyter-widgets/base",
            "_model_module_version": "1.5.0",
            "_view_count": null,
            "_view_module_version": "1.2.0",
            "_model_module": "@jupyter-widgets/controls"
          }
        },
        "fc8b399b38e14f1cac232a5a17c4607f": {
          "model_module": "@jupyter-widgets/base",
          "model_name": "LayoutModel",
          "model_module_version": "1.2.0",
          "state": {
            "_view_name": "LayoutView",
            "grid_template_rows": null,
            "right": null,
            "justify_content": null,
            "_view_module": "@jupyter-widgets/base",
            "overflow": null,
            "_model_module_version": "1.2.0",
            "_view_count": null,
            "flex_flow": null,
            "width": null,
            "min_width": null,
            "border": null,
            "align_items": null,
            "bottom": null,
            "_model_module": "@jupyter-widgets/base",
            "top": null,
            "grid_column": null,
            "overflow_y": null,
            "overflow_x": null,
            "grid_auto_flow": null,
            "grid_area": null,
            "grid_template_columns": null,
            "flex": null,
            "_model_name": "LayoutModel",
            "justify_items": null,
            "grid_row": null,
            "max_height": null,
            "align_content": null,
            "visibility": null,
            "align_self": null,
            "height": null,
            "min_height": null,
            "padding": null,
            "grid_auto_rows": null,
            "grid_gap": null,
            "max_width": null,
            "order": null,
            "_view_module_version": "1.2.0",
            "grid_template_areas": null,
            "object_position": null,
            "object_fit": null,
            "grid_auto_columns": null,
            "margin": null,
            "display": null,
            "left": null
          }
        },
        "9e448df8834f490ea14b04cf7bbf3f50": {
          "model_module": "@jupyter-widgets/controls",
          "model_name": "ProgressStyleModel",
          "model_module_version": "1.5.0",
          "state": {
            "_view_name": "StyleView",
            "_model_name": "ProgressStyleModel",
            "description_width": "",
            "_view_module": "@jupyter-widgets/base",
            "_model_module_version": "1.5.0",
            "_view_count": null,
            "_view_module_version": "1.2.0",
            "bar_color": null,
            "_model_module": "@jupyter-widgets/controls"
          }
        },
        "a457cbdf558f4c76984bfd31d56cbadc": {
          "model_module": "@jupyter-widgets/base",
          "model_name": "LayoutModel",
          "model_module_version": "1.2.0",
          "state": {
            "_view_name": "LayoutView",
            "grid_template_rows": null,
            "right": null,
            "justify_content": null,
            "_view_module": "@jupyter-widgets/base",
            "overflow": null,
            "_model_module_version": "1.2.0",
            "_view_count": null,
            "flex_flow": null,
            "width": null,
            "min_width": null,
            "border": null,
            "align_items": null,
            "bottom": null,
            "_model_module": "@jupyter-widgets/base",
            "top": null,
            "grid_column": null,
            "overflow_y": null,
            "overflow_x": null,
            "grid_auto_flow": null,
            "grid_area": null,
            "grid_template_columns": null,
            "flex": null,
            "_model_name": "LayoutModel",
            "justify_items": null,
            "grid_row": null,
            "max_height": null,
            "align_content": null,
            "visibility": null,
            "align_self": null,
            "height": null,
            "min_height": null,
            "padding": null,
            "grid_auto_rows": null,
            "grid_gap": null,
            "max_width": null,
            "order": null,
            "_view_module_version": "1.2.0",
            "grid_template_areas": null,
            "object_position": null,
            "object_fit": null,
            "grid_auto_columns": null,
            "margin": null,
            "display": null,
            "left": null
          }
        },
        "5bc8f78b36154459bcbed67e3d38a7ab": {
          "model_module": "@jupyter-widgets/controls",
          "model_name": "DescriptionStyleModel",
          "model_module_version": "1.5.0",
          "state": {
            "_view_name": "StyleView",
            "_model_name": "DescriptionStyleModel",
            "description_width": "",
            "_view_module": "@jupyter-widgets/base",
            "_model_module_version": "1.5.0",
            "_view_count": null,
            "_view_module_version": "1.2.0",
            "_model_module": "@jupyter-widgets/controls"
          }
        },
        "56b06775779d4e07909363def200d4aa": {
          "model_module": "@jupyter-widgets/base",
          "model_name": "LayoutModel",
          "model_module_version": "1.2.0",
          "state": {
            "_view_name": "LayoutView",
            "grid_template_rows": null,
            "right": null,
            "justify_content": null,
            "_view_module": "@jupyter-widgets/base",
            "overflow": null,
            "_model_module_version": "1.2.0",
            "_view_count": null,
            "flex_flow": null,
            "width": null,
            "min_width": null,
            "border": null,
            "align_items": null,
            "bottom": null,
            "_model_module": "@jupyter-widgets/base",
            "top": null,
            "grid_column": null,
            "overflow_y": null,
            "overflow_x": null,
            "grid_auto_flow": null,
            "grid_area": null,
            "grid_template_columns": null,
            "flex": null,
            "_model_name": "LayoutModel",
            "justify_items": null,
            "grid_row": null,
            "max_height": null,
            "align_content": null,
            "visibility": null,
            "align_self": null,
            "height": null,
            "min_height": null,
            "padding": null,
            "grid_auto_rows": null,
            "grid_gap": null,
            "max_width": null,
            "order": null,
            "_view_module_version": "1.2.0",
            "grid_template_areas": null,
            "object_position": null,
            "object_fit": null,
            "grid_auto_columns": null,
            "margin": null,
            "display": null,
            "left": null
          }
        }
      }
    }
  },
  "cells": [
    {
      "cell_type": "markdown",
      "metadata": {
        "id": "view-in-github",
        "colab_type": "text"
      },
      "source": [
        "<a href=\"https://colab.research.google.com/github/trongthuan205/visualize_mmdetection/blob/master/%5Bmmdetection%5Dvisualize.ipynb\" target=\"_parent\"><img src=\"https://colab.research.google.com/assets/colab-badge.svg\" alt=\"Open In Colab\"/></a>"
      ]
    },
    {
      "cell_type": "markdown",
      "metadata": {
        "id": "tJxJHruNLb7Y"
      },
      "source": [
        "## Install MMDetection"
      ]
    },
    {
      "cell_type": "code",
      "metadata": {
        "colab": {
          "base_uri": "https://localhost:8080/"
        },
        "id": "9Gldpj4zEZLm",
        "outputId": "a86fd3c2-9d23-48b9-c9e3-af2a22f448ff"
      },
      "source": [
        "from google.colab import drive\n",
        "drive.mount('/content/drive')"
      ],
      "execution_count": 1,
      "outputs": [
        {
          "output_type": "stream",
          "text": [
            "Mounted at /content/drive\n"
          ],
          "name": "stdout"
        }
      ]
    },
    {
      "cell_type": "code",
      "metadata": {
        "colab": {
          "base_uri": "https://localhost:8080/"
        },
        "id": "Wi4LPmsR66sy",
        "outputId": "7a27b3c1-b658-4e3a-b22f-1b5c086821c4"
      },
      "source": [
        "# Check nvcc version\n",
        "!nvcc -V\n",
        "# Check GCC version\n",
        "!gcc --version"
      ],
      "execution_count": 2,
      "outputs": [
        {
          "output_type": "stream",
          "text": [
            "nvcc: NVIDIA (R) Cuda compiler driver\n",
            "Copyright (c) 2005-2020 NVIDIA Corporation\n",
            "Built on Wed_Jul_22_19:09:09_PDT_2020\n",
            "Cuda compilation tools, release 11.0, V11.0.221\n",
            "Build cuda_11.0_bu.TC445_37.28845127_0\n",
            "gcc (Ubuntu 7.5.0-3ubuntu1~18.04) 7.5.0\n",
            "Copyright (C) 2017 Free Software Foundation, Inc.\n",
            "This is free software; see the source for copying conditions.  There is NO\n",
            "warranty; not even for MERCHANTABILITY or FITNESS FOR A PARTICULAR PURPOSE.\n",
            "\n"
          ],
          "name": "stdout"
        }
      ]
    },
    {
      "cell_type": "code",
      "metadata": {
        "colab": {
          "base_uri": "https://localhost:8080/"
        },
        "id": "Ni--ASSuBGGv",
        "outputId": "943b84c2-0ff6-4a0f-b17f-8144943151d8"
      },
      "source": [
        "# install dependencies: (use cu101 because colab has CUDA 10.1)\n",
        "!pip install -U torch==1.5.1+cu101 torchvision==0.6.1+cu101 -f https://download.pytorch.org/whl/torch_stable.html"
      ],
      "execution_count": 3,
      "outputs": [
        {
          "output_type": "stream",
          "text": [
            "Looking in links: https://download.pytorch.org/whl/torch_stable.html\n",
            "Collecting torch==1.5.1+cu101\n",
            "  Downloading https://download.pytorch.org/whl/cu101/torch-1.5.1%2Bcu101-cp37-cp37m-linux_x86_64.whl (704.4 MB)\n",
            "\u001b[K     |████████████████████████████████| 704.4 MB 1.2 kB/s \n",
            "\u001b[?25hCollecting torchvision==0.6.1+cu101\n",
            "  Downloading https://download.pytorch.org/whl/cu101/torchvision-0.6.1%2Bcu101-cp37-cp37m-linux_x86_64.whl (6.6 MB)\n",
            "\u001b[K     |████████████████████████████████| 6.6 MB 53.6 MB/s \n",
            "\u001b[?25hRequirement already satisfied: future in /usr/local/lib/python3.7/dist-packages (from torch==1.5.1+cu101) (0.16.0)\n",
            "Requirement already satisfied: numpy in /usr/local/lib/python3.7/dist-packages (from torch==1.5.1+cu101) (1.19.5)\n",
            "Requirement already satisfied: pillow>=4.1.1 in /usr/local/lib/python3.7/dist-packages (from torchvision==0.6.1+cu101) (7.1.2)\n",
            "Installing collected packages: torch, torchvision\n",
            "  Attempting uninstall: torch\n",
            "    Found existing installation: torch 1.9.0+cu102\n",
            "    Uninstalling torch-1.9.0+cu102:\n",
            "      Successfully uninstalled torch-1.9.0+cu102\n",
            "  Attempting uninstall: torchvision\n",
            "    Found existing installation: torchvision 0.10.0+cu102\n",
            "    Uninstalling torchvision-0.10.0+cu102:\n",
            "      Successfully uninstalled torchvision-0.10.0+cu102\n",
            "\u001b[31mERROR: pip's dependency resolver does not currently take into account all the packages that are installed. This behaviour is the source of the following dependency conflicts.\n",
            "torchtext 0.10.0 requires torch==1.9.0, but you have torch 1.5.1+cu101 which is incompatible.\u001b[0m\n",
            "Successfully installed torch-1.5.1+cu101 torchvision-0.6.1+cu101\n"
          ],
          "name": "stdout"
        }
      ]
    },
    {
      "cell_type": "code",
      "metadata": {
        "colab": {
          "base_uri": "https://localhost:8080/"
        },
        "id": "Yu4lB50HBHOG",
        "outputId": "66fc6c7f-db71-4aad-f7e1-dbb2fe310da1"
      },
      "source": [
        "# install mmcv-full thus we could use CUDA operators\n",
        "!pip install mmcv-full"
      ],
      "execution_count": 4,
      "outputs": [
        {
          "output_type": "stream",
          "text": [
            "Collecting mmcv-full\n",
            "  Downloading mmcv-full-1.3.11.tar.gz (307 kB)\n",
            "\u001b[K     |████████████████████████████████| 307 kB 4.2 MB/s \n",
            "\u001b[?25hCollecting addict\n",
            "  Downloading addict-2.4.0-py3-none-any.whl (3.8 kB)\n",
            "Requirement already satisfied: numpy in /usr/local/lib/python3.7/dist-packages (from mmcv-full) (1.19.5)\n",
            "Requirement already satisfied: packaging in /usr/local/lib/python3.7/dist-packages (from mmcv-full) (21.0)\n",
            "Requirement already satisfied: Pillow in /usr/local/lib/python3.7/dist-packages (from mmcv-full) (7.1.2)\n",
            "Requirement already satisfied: pyyaml in /usr/local/lib/python3.7/dist-packages (from mmcv-full) (3.13)\n",
            "Collecting yapf\n",
            "  Downloading yapf-0.31.0-py2.py3-none-any.whl (185 kB)\n",
            "\u001b[K     |████████████████████████████████| 185 kB 69.5 MB/s \n",
            "\u001b[?25hRequirement already satisfied: pyparsing>=2.0.2 in /usr/local/lib/python3.7/dist-packages (from packaging->mmcv-full) (2.4.7)\n",
            "Building wheels for collected packages: mmcv-full\n",
            "  Building wheel for mmcv-full (setup.py) ... \u001b[?25l\u001b[?25hdone\n",
            "  Created wheel for mmcv-full: filename=mmcv_full-1.3.11-cp37-cp37m-linux_x86_64.whl size=25750859 sha256=19ff8aa809744a8ce9f87389f6ec37d11420ea79fcea325c8c68d5d0d7fa3015\n",
            "  Stored in directory: /root/.cache/pip/wheels/4c/8f/1d/903456a291e5bf33d99cb03cb1bbc822e2c5d32c123b873ebe\n",
            "Successfully built mmcv-full\n",
            "Installing collected packages: yapf, addict, mmcv-full\n",
            "Successfully installed addict-2.4.0 mmcv-full-1.3.11 yapf-0.31.0\n"
          ],
          "name": "stdout"
        }
      ]
    },
    {
      "cell_type": "code",
      "metadata": {
        "colab": {
          "base_uri": "https://localhost:8080/"
        },
        "id": "Dg0NWK9Y6yWa",
        "outputId": "1d6b33d6-ebed-4dc9-eb86-f907d9e16966"
      },
      "source": [
        "%cd /content/drive/MyDrive/UIT/Research/DIU/src/mmdetection"
      ],
      "execution_count": 15,
      "outputs": [
        {
          "output_type": "stream",
          "text": [
            "/content/drive/MyDrive/UIT/Research/DIU/src/mmdetection\n"
          ],
          "name": "stdout"
        }
      ]
    },
    {
      "cell_type": "code",
      "metadata": {
        "id": "dk6GgsyYBI0-"
      },
      "source": [
        "# # # Install mmdetection\n",
        "# !rm -rf mmdetection\n",
        "# !git clone https://github.com/open-mmlab/mmdetection.git\n",
        "# %cd mmdetection"
      ],
      "execution_count": null,
      "outputs": []
    },
    {
      "cell_type": "code",
      "metadata": {
        "colab": {
          "base_uri": "https://localhost:8080/"
        },
        "id": "Y0tt_nDyBJTf",
        "outputId": "79ad2bb0-815b-4944-e906-38d1fa0fbc7b"
      },
      "source": [
        "!pip install -e ."
      ],
      "execution_count": 5,
      "outputs": [
        {
          "output_type": "stream",
          "text": [
            "\u001b[31mERROR: File \"setup.py\" or \"setup.cfg\" not found. Directory cannot be installed in editable mode: /content\u001b[0m\n"
          ],
          "name": "stdout"
        }
      ]
    },
    {
      "cell_type": "code",
      "metadata": {
        "colab": {
          "base_uri": "https://localhost:8080/",
          "height": 335
        },
        "id": "gkGnB9WyHSXB",
        "outputId": "45c597bb-0e90-4ad1-8ed1-f997d3f71046"
      },
      "source": [
        "# install Pillow 7.0.0 back in order to avoid bug in colab\n",
        "!pip install Pillow==7.0.0"
      ],
      "execution_count": 6,
      "outputs": [
        {
          "output_type": "stream",
          "text": [
            "Collecting Pillow==7.0.0\n",
            "  Downloading Pillow-7.0.0-cp37-cp37m-manylinux1_x86_64.whl (2.1 MB)\n",
            "\u001b[K     |████████████████████████████████| 2.1 MB 4.3 MB/s \n",
            "\u001b[?25hInstalling collected packages: Pillow\n",
            "  Attempting uninstall: Pillow\n",
            "    Found existing installation: Pillow 7.1.2\n",
            "    Uninstalling Pillow-7.1.2:\n",
            "      Successfully uninstalled Pillow-7.1.2\n",
            "\u001b[31mERROR: pip's dependency resolver does not currently take into account all the packages that are installed. This behaviour is the source of the following dependency conflicts.\n",
            "bokeh 2.3.3 requires pillow>=7.1.0, but you have pillow 7.0.0 which is incompatible.\n",
            "albumentations 0.1.12 requires imgaug<0.2.7,>=0.2.5, but you have imgaug 0.2.9 which is incompatible.\u001b[0m\n",
            "Successfully installed Pillow-7.0.0\n"
          ],
          "name": "stdout"
        },
        {
          "output_type": "display_data",
          "data": {
            "application/vnd.colab-display-data+json": {
              "pip_warning": {
                "packages": [
                  "PIL"
                ]
              }
            }
          },
          "metadata": {
            "tags": []
          }
        }
      ]
    },
    {
      "cell_type": "code",
      "metadata": {
        "colab": {
          "base_uri": "https://localhost:8080/"
        },
        "id": "6hD0mmMixT0p",
        "outputId": "c0ae1290-12be-45b6-8112-2a7d6a694f0b"
      },
      "source": [
        "# Check Pytorch installation\n",
        "import torch, torchvision\n",
        "print(torch.__version__, torch.cuda.is_available())\n",
        "\n",
        "# Check MMDetection installation\n",
        "import mmdet\n",
        "print(mmdet.__version__)\n",
        "\n",
        "# Check mmcv installation\n",
        "from mmcv.ops import get_compiling_cuda_version, get_compiler_version\n",
        "print(get_compiling_cuda_version())\n",
        "print(get_compiler_version())"
      ],
      "execution_count": 9,
      "outputs": [
        {
          "output_type": "stream",
          "text": [
            "1.5.1+cu101 True\n",
            "2.15.0\n",
            "11.0\n",
            "GCC 7.5\n"
          ],
          "name": "stdout"
        }
      ]
    },
    {
      "cell_type": "markdown",
      "metadata": {
        "id": "jFw_5R_nxt44"
      },
      "source": [
        "## Exporting image prediction"
      ]
    },
    {
      "cell_type": "code",
      "metadata": {
        "colab": {
          "base_uri": "https://localhost:8080/"
        },
        "id": "9BXm5_P2__V6",
        "outputId": "aba49e72-3d22-4105-a2b0-dfcb5494b3b8"
      },
      "source": [
        "! pip install terminaltables"
      ],
      "execution_count": 17,
      "outputs": [
        {
          "output_type": "stream",
          "text": [
            "Collecting terminaltables\n",
            "  Downloading terminaltables-3.1.0.tar.gz (12 kB)\n",
            "Building wheels for collected packages: terminaltables\n",
            "  Building wheel for terminaltables (setup.py) ... \u001b[?25l\u001b[?25hdone\n",
            "  Created wheel for terminaltables: filename=terminaltables-3.1.0-py3-none-any.whl size=15354 sha256=941515fc73c3af8219ff7771c5ec99b71b6aae4865bcde20d92efab38a04957f\n",
            "  Stored in directory: /root/.cache/pip/wheels/ba/ad/c8/2d98360791161cd3db6daf6b5e730f34021fc9367d5879f497\n",
            "Successfully built terminaltables\n",
            "Installing collected packages: terminaltables\n",
            "Successfully installed terminaltables-3.1.0\n"
          ],
          "name": "stdout"
        }
      ]
    },
    {
      "cell_type": "code",
      "metadata": {
        "id": "IhWNxXqkE0R8"
      },
      "source": [
        "import warnings\n",
        "warnings.filterwarnings(\"ignore\")\n",
        "from mmdet.apis import init_detector, inference_detector, show_result_pyplot\n",
        "import mmcv\n",
        "import os.path\n",
        "from mmdet.models.detectors import BaseDetector\n",
        "#BaseDetector.show_result instead of show_result\n",
        "#import os.path as osp\n",
        "import pickle\n",
        "import shutil\n",
        "import tempfile\n",
        "import time\n",
        "from PIL import Image\n",
        "\n",
        "\n",
        "import mmcv\n",
        "import torch\n",
        "import torch.distributed as dist\n",
        "from mmcv.runner import get_dist_info\n",
        "from numpy import asarray\n",
        "from mmcv.utils import is_str\n",
        "from tqdm.notebook import tqdm"
      ],
      "execution_count": 18,
      "outputs": []
    },
    {
      "cell_type": "code",
      "metadata": {
        "colab": {
          "base_uri": "https://localhost:8080/"
        },
        "id": "OFswqnwsE11N",
        "outputId": "87110b2e-0309-48df-b1b6-eb2ddb33cc33"
      },
      "source": [
        "#from mmdet.core import encode_mask_results, tensor2imgs\n",
        "config_fname = '/content/drive/MyDrive/UIT/Research/FDSE2021/htc_hrnet_dynamic/htc_hrnet_dynamic.py'\n",
        "checkpoint_fname = '/content/drive/MyDrive/UIT/Research/FDSE2021/htc_hrnet_dynamic/best_bbox_mAP_epoch_17.pth'\n",
        "model = init_detector(config_fname, checkpoint_fname)"
      ],
      "execution_count": 19,
      "outputs": [
        {
          "output_type": "stream",
          "text": [
            "Use load_from_local loader\n"
          ],
          "name": "stdout"
        }
      ]
    },
    {
      "cell_type": "code",
      "metadata": {
        "id": "IHmAqHKdGmL9"
      },
      "source": [
        "import os\n",
        "imgFolderPath = \"/content/drive/MyDrive/UIT/Research/DIU/data/CTU_2021/\"\n",
        "outputFolderPath = \"CTU_2021_prediction/\"\n",
        "if not os.path.exists(outputFolderPath):\n",
        "    os.makedirs(outputFolderPath)"
      ],
      "execution_count": 20,
      "outputs": []
    },
    {
      "cell_type": "code",
      "metadata": {
        "id": "Ok1gxx2sGZSc",
        "colab": {
          "base_uri": "https://localhost:8080/",
          "height": 49,
          "referenced_widgets": [
            "2f50b76f47354c6cbc05e14843c0e044",
            "50acfa956ffc4aaab27f3afbe5a16684",
            "165462ed77f54821947009be3fad9d47",
            "13a43edddc1647f4bc775eaa474b6cd6",
            "2dda35c79bdc432ea075753096a94de4",
            "5b608d4bd1094f5da6f606290616ca7e",
            "f7fe01c195a04ef6a59e6706ed310412",
            "6e1a02f2adc9498aaac8d07d10ea7808",
            "24da975227e84677b711f8670969f136",
            "57b9a4acd59b4914b74563299e74e156",
            "7b723add71e7449f897fb1f9145d660e"
          ]
        },
        "outputId": "97665f18-0bf3-4f26-f749-f33dbb8b8f51"
      },
      "source": [
        "for file in tqdm(os.listdir(imgFolderPath)):\n",
        "  if file.endswith(\".jpg\") or file.endswith(\".jpeg\") or file.endswith(\".JPG\"):\n",
        "    img = os.path.join(imgFolderPath, file)\n",
        "    result = inference_detector(model, img)\n",
        "    model.show_result(img, result, out_file= outputFolderPath + file)\n",
        " "
      ],
      "execution_count": 21,
      "outputs": [
        {
          "output_type": "display_data",
          "data": {
            "application/vnd.jupyter.widget-view+json": {
              "model_id": "2f50b76f47354c6cbc05e14843c0e044",
              "version_major": 2,
              "version_minor": 0
            },
            "text/plain": [
              "  0%|          | 0/14519 [00:00<?, ?it/s]"
            ]
          },
          "metadata": {
            "tags": []
          }
        }
      ]
    },
    {
      "cell_type": "markdown",
      "metadata": {
        "id": "aH7YIv04e29-"
      },
      "source": [
        "# Convert ouput prediction to VOC format"
      ]
    },
    {
      "cell_type": "code",
      "metadata": {
        "id": "mpfFzaOibjX1",
        "colab": {
          "base_uri": "https://localhost:8080/"
        },
        "outputId": "4e60be18-ac16-4605-f7ee-9773cf3d28ed"
      },
      "source": [
        "! pip install pyqt5"
      ],
      "execution_count": 25,
      "outputs": [
        {
          "output_type": "stream",
          "text": [
            "Collecting pyqt5\n",
            "  Downloading PyQt5-5.15.4-cp36.cp37.cp38.cp39-abi3-manylinux2014_x86_64.whl (8.3 MB)\n",
            "\u001b[K     |████████████████████████████████| 8.3 MB 4.1 MB/s \n",
            "\u001b[?25hCollecting PyQt5-sip<13,>=12.8\n",
            "  Downloading PyQt5_sip-12.9.0-cp37-cp37m-manylinux1_x86_64.whl (317 kB)\n",
            "\u001b[K     |████████████████████████████████| 317 kB 83.2 MB/s \n",
            "\u001b[?25hCollecting PyQt5-Qt5>=5.15\n",
            "  Downloading PyQt5_Qt5-5.15.2-py3-none-manylinux2014_x86_64.whl (59.9 MB)\n",
            "\u001b[K     |████████████████████████████████| 59.9 MB 65 kB/s \n",
            "\u001b[?25hInstalling collected packages: PyQt5-sip, PyQt5-Qt5, pyqt5\n",
            "Successfully installed PyQt5-Qt5-5.15.2 PyQt5-sip-12.9.0 pyqt5-5.15.4\n"
          ],
          "name": "stdout"
        }
      ]
    },
    {
      "cell_type": "code",
      "metadata": {
        "id": "3KTDG0BCc8T3"
      },
      "source": [
        "#!/usr/bin/env python\n",
        "# -*- coding: utf8 -*-\n",
        "import sys\n",
        "from xml.etree import ElementTree\n",
        "from xml.etree.ElementTree import Element, SubElement\n",
        "from lxml import etree\n",
        "import codecs\n",
        "\n",
        "XML_EXT = '.xml'\n",
        "ENCODE_METHOD = 'utf-8'\n",
        "\n",
        "class PascalVocWriter:\n",
        "\n",
        "    def __init__(self, foldername, filename, imgSize,databaseSrc='Unknown', localImgPath=None):\n",
        "        self.foldername = foldername\n",
        "        self.filename = filename\n",
        "        self.databaseSrc = databaseSrc\n",
        "        self.imgSize = imgSize\n",
        "        self.boxlist = []\n",
        "        self.localImgPath = localImgPath\n",
        "        self.verified = False\n",
        "\n",
        "    def prettify(self, elem):\n",
        "        \"\"\"\n",
        "            Return a pretty-printed XML string for the Element.\n",
        "        \"\"\"\n",
        "        rough_string = ElementTree.tostring(elem, 'utf8')\n",
        "        root = etree.fromstring(rough_string)\n",
        "        return etree.tostring(root, pretty_print=True, encoding=ENCODE_METHOD).replace(\"  \".encode(), \"\\t\".encode())\n",
        "        # minidom does not support UTF-8\n",
        "        '''reparsed = minidom.parseString(rough_string)\n",
        "        return reparsed.toprettyxml(indent=\"\\t\", encoding=ENCODE_METHOD)'''\n",
        "\n",
        "    def genXML(self):\n",
        "        \"\"\"\n",
        "            Return XML root\n",
        "        \"\"\"\n",
        "        # Check conditions\n",
        "        if self.filename is None or \\\n",
        "                self.foldername is None or \\\n",
        "                self.imgSize is None:\n",
        "            return None\n",
        "\n",
        "        top = Element('annotation')\n",
        "        if self.verified:\n",
        "            top.set('verified', 'yes')\n",
        "\n",
        "        folder = SubElement(top, 'folder')\n",
        "        folder.text = self.foldername\n",
        "\n",
        "        filename = SubElement(top, 'filename')\n",
        "        filename.text = self.filename\n",
        "\n",
        "        if self.localImgPath is not None:\n",
        "            localImgPath = SubElement(top, 'path')\n",
        "            localImgPath.text = self.localImgPath\n",
        "\n",
        "        source = SubElement(top, 'source')\n",
        "        database = SubElement(source, 'database')\n",
        "        database.text = self.databaseSrc\n",
        "\n",
        "        size_part = SubElement(top, 'size')\n",
        "        width = SubElement(size_part, 'width')\n",
        "        height = SubElement(size_part, 'height')\n",
        "        depth = SubElement(size_part, 'depth')\n",
        "        width.text = str(self.imgSize[1])\n",
        "        height.text = str(self.imgSize[0])\n",
        "        if len(self.imgSize) == 3:\n",
        "            depth.text = str(self.imgSize[2])\n",
        "        else:\n",
        "            depth.text = '1'\n",
        "\n",
        "        segmented = SubElement(top, 'segmented')\n",
        "        segmented.text = '0'\n",
        "        return top\n",
        "\n",
        "    def addBndBox(self, xmin, ymin, xmax, ymax, name, difficult):\n",
        "        bndbox = {'xmin': xmin, 'ymin': ymin, 'xmax': xmax, 'ymax': ymax}\n",
        "        bndbox['name'] = name\n",
        "        bndbox['difficult'] = difficult\n",
        "        self.boxlist.append(bndbox)\n",
        "\n",
        "    def appendObjects(self, top):\n",
        "        for each_object in self.boxlist:\n",
        "            object_item = SubElement(top, 'object')\n",
        "            name = SubElement(object_item, 'name')\n",
        "            try:\n",
        "                name.text = unicode(each_object['name'])\n",
        "            except NameError:\n",
        "                # Py3: NameError: name 'unicode' is not defined\n",
        "                name.text = each_object['name']\n",
        "            pose = SubElement(object_item, 'pose')\n",
        "            pose.text = \"Unspecified\"\n",
        "            truncated = SubElement(object_item, 'truncated')\n",
        "            if int(each_object['ymax']) == int(self.imgSize[0]) or (int(each_object['ymin'])== 1):\n",
        "                truncated.text = \"1\" # max == height or min\n",
        "            elif (int(each_object['xmax'])==int(self.imgSize[1])) or (int(each_object['xmin'])== 1):\n",
        "                truncated.text = \"1\" # max == width or min\n",
        "            else:\n",
        "                truncated.text = \"0\"\n",
        "            difficult = SubElement(object_item, 'difficult')\n",
        "            difficult.text = str( bool(each_object['difficult']) & 1 )\n",
        "            bndbox = SubElement(object_item, 'bndbox')\n",
        "            xmin = SubElement(bndbox, 'xmin')\n",
        "            xmin.text = str(each_object['xmin'])\n",
        "            ymin = SubElement(bndbox, 'ymin')\n",
        "            ymin.text = str(each_object['ymin'])\n",
        "            xmax = SubElement(bndbox, 'xmax')\n",
        "            xmax.text = str(each_object['xmax'])\n",
        "            ymax = SubElement(bndbox, 'ymax')\n",
        "            ymax.text = str(each_object['ymax'])\n",
        "\n",
        "    def save(self, targetFile=None):\n",
        "        root = self.genXML()\n",
        "        self.appendObjects(root)\n",
        "        out_file = None\n",
        "        if targetFile is None:\n",
        "            out_file = codecs.open(\n",
        "                self.filename + XML_EXT, 'w', encoding=ENCODE_METHOD)\n",
        "        else:\n",
        "            out_file = codecs.open(targetFile, 'w', encoding=ENCODE_METHOD)\n",
        "\n",
        "        prettifyResult = self.prettify(root)\n",
        "        out_file.write(prettifyResult.decode('utf8'))\n",
        "        out_file.close()\n",
        "\n",
        "\n",
        "class PascalVocReader:\n",
        "\n",
        "    def __init__(self, filepath):\n",
        "        # shapes type:\n",
        "        # [labbel, [(x1,y1), (x2,y2), (x3,y3), (x4,y4)], color, color, difficult]\n",
        "        self.shapes = []\n",
        "        self.filepath = filepath\n",
        "        self.verified = False\n",
        "        try:\n",
        "            self.parseXML()\n",
        "        except:\n",
        "            pass\n",
        "\n",
        "    def getShapes(self):\n",
        "        return self.shapes\n",
        "\n",
        "    def addShape(self, label, bndbox, difficult):\n",
        "        xmin = int(bndbox.find('xmin').text)\n",
        "        ymin = int(bndbox.find('ymin').text)\n",
        "        xmax = int(bndbox.find('xmax').text)\n",
        "        ymax = int(bndbox.find('ymax').text)\n",
        "        points = [(xmin, ymin), (xmax, ymin), (xmax, ymax), (xmin, ymax)]\n",
        "        self.shapes.append((label, points, None, None, difficult))\n",
        "\n",
        "    def parseXML(self):\n",
        "        assert self.filepath.endswith(XML_EXT), \"Unsupport file format\"\n",
        "        parser = etree.XMLParser(encoding=ENCODE_METHOD)\n",
        "        xmltree = ElementTree.parse(self.filepath, parser=parser).getroot()\n",
        "        filename = xmltree.find('filename').text\n",
        "        try:\n",
        "            verified = xmltree.attrib['verified']\n",
        "            if verified == 'yes':\n",
        "                self.verified = True\n",
        "        except KeyError:\n",
        "            self.verified = False\n",
        "\n",
        "        for object_iter in xmltree.findall('object'):\n",
        "            bndbox = object_iter.find(\"bndbox\")\n",
        "            label = object_iter.find('name').text\n",
        "            # Add chris\n",
        "            difficult = False\n",
        "            if object_iter.find('difficult') is not None:\n",
        "                difficult = bool(int(object_iter.find('difficult').text))\n",
        "            self.addShape(label, bndbox, difficult)\n",
        "        return True"
      ],
      "execution_count": 26,
      "outputs": []
    },
    {
      "cell_type": "code",
      "metadata": {
        "id": "VI1gDqWqdBL0"
      },
      "source": [
        "#!/usr/bin/env python\n",
        "# -*- coding: utf8 -*-\n",
        "import sys\n",
        "import os\n",
        "from xml.etree import ElementTree\n",
        "from xml.etree.ElementTree import Element, SubElement\n",
        "from lxml import etree\n",
        "import codecs\n",
        "# from constants import DEFAULT_ENCODING\n",
        "\n",
        "TXT_EXT = '.txt'\n",
        "ENCODE_METHOD = 'utf-8'\n",
        "# ENCODE_METHOD = DEFAULT_ENCODING\n",
        "\n",
        "class YOLOWriter:\n",
        "\n",
        "    def __init__(self, foldername, filename, imgSize, databaseSrc='Unknown', localImgPath=None):\n",
        "        self.foldername = foldername\n",
        "        self.filename = filename\n",
        "        self.databaseSrc = databaseSrc\n",
        "        self.imgSize = imgSize\n",
        "        self.boxlist = []\n",
        "        self.localImgPath = localImgPath\n",
        "        self.verified = False\n",
        "\n",
        "    def addBndBox(self, xmin, ymin, xmax, ymax, name, difficult):\n",
        "        bndbox = {'xmin': xmin, 'ymin': ymin, 'xmax': xmax, 'ymax': ymax}\n",
        "        bndbox['name'] = name\n",
        "        bndbox['difficult'] = difficult\n",
        "        self.boxlist.append(bndbox)\n",
        "\n",
        "    def BndBox2YoloLine(self, box, classList=[]):\n",
        "        xmin = box['xmin']\n",
        "        xmax = box['xmax']\n",
        "        ymin = box['ymin']\n",
        "        ymax = box['ymax']\n",
        "\n",
        "        xcen = float((xmin + xmax)) / 2 / self.imgSize[1]\n",
        "        ycen = float((ymin + ymax)) / 2 / self.imgSize[0]\n",
        "\n",
        "        w = float((xmax - xmin)) / self.imgSize[1]\n",
        "        h = float((ymax - ymin)) / self.imgSize[0]\n",
        "\n",
        "        # PR387\n",
        "        boxName = box['name']\n",
        "        if boxName not in classList:\n",
        "            classList.append(boxName)\n",
        "\n",
        "        classIndex = classList.index(boxName)\n",
        "\n",
        "        return classIndex, xcen, ycen, w, h\n",
        "\n",
        "    def save(self, classList=[], targetFile=None):\n",
        "\n",
        "        out_file = None #Update yolo .txt\n",
        "        out_class_file = None   #Update class list .txt\n",
        "\n",
        "        if targetFile is None:\n",
        "            out_file = open(\n",
        "            self.filename + TXT_EXT, 'w', encoding=ENCODE_METHOD)\n",
        "            classesFile = os.path.join(os.path.dirname(os.path.abspath(self.filename)), \"classes.txt\")\n",
        "            out_class_file = open(classesFile, 'w')\n",
        "\n",
        "        else:\n",
        "            out_file = codecs.open(targetFile, 'w', encoding=ENCODE_METHOD)\n",
        "            classesFile = os.path.join(os.path.dirname(os.path.abspath(targetFile)), \"classes.txt\")\n",
        "            out_class_file = open(classesFile, 'w')\n",
        "\n",
        "\n",
        "        for box in self.boxlist:\n",
        "            classIndex, xcen, ycen, w, h = self.BndBox2YoloLine(box, classList)\n",
        "            # print (classIndex, xcen, ycen, w, h)\n",
        "            out_file.write(\"%d %.6f %.6f %.6f %.6f\\n\" % (classIndex, xcen, ycen, w, h))\n",
        "\n",
        "        # print (classList)\n",
        "        # print (out_class_file)\n",
        "        for c in classList:\n",
        "            out_class_file.write(c+'\\n')\n",
        "\n",
        "        out_class_file.close()\n",
        "        out_file.close()\n",
        "\n",
        "\n",
        "\n",
        "class YoloReader:\n",
        "\n",
        "    def __init__(self, filepath, image, classListPath=None):\n",
        "        # shapes type:\n",
        "        # [labbel, [(x1,y1), (x2,y2), (x3,y3), (x4,y4)], color, color, difficult]\n",
        "        self.shapes = []\n",
        "        self.filepath = filepath\n",
        "\n",
        "        if classListPath is None:\n",
        "            dir_path = os.path.dirname(os.path.realpath(self.filepath))\n",
        "            self.classListPath = os.path.join(dir_path, \"classes.txt\")\n",
        "        else:\n",
        "            self.classListPath = classListPath\n",
        "\n",
        "        # print (filepath, self.classListPath)\n",
        "\n",
        "        classesFile = open(self.classListPath, 'r')\n",
        "        self.classes = classesFile.read().strip('\\n').split('\\n')\n",
        "\n",
        "        # print (self.classes)\n",
        "\n",
        "        imgSize = [image.height(), image.width(),\n",
        "                      1 if image.isGrayscale() else 3]\n",
        "\n",
        "        self.imgSize = imgSize\n",
        "\n",
        "        self.verified = False\n",
        "        # try:\n",
        "        self.parseYoloFormat()\n",
        "        # except:\n",
        "            # pass\n",
        "\n",
        "    def getShapes(self):\n",
        "        return self.shapes\n",
        "\n",
        "    def addShape(self, label, xmin, ymin, xmax, ymax, difficult):\n",
        "\n",
        "        points = [(xmin, ymin), (xmax, ymin), (xmax, ymax), (xmin, ymax)]\n",
        "        self.shapes.append((label, points, None, None, difficult))\n",
        "\n",
        "    def getLabel(self, classIndex):\n",
        "        label = self.classes[int(classIndex)]\n",
        "        return label\n",
        "\n",
        "    def yoloLine2Shape(self, classIndex, xcen, ycen, w, h):\n",
        "        label = self.classes[int(classIndex)]\n",
        "\n",
        "#        xmin = max(float(xcen) - float(w) / 2, 0)\n",
        "#        xmax = min(float(xcen) + float(w) / 2, 1)\n",
        "#        ymin = max(float(ycen) - float(h) / 2, 0)\n",
        "#        ymax = min(float(ycen) + float(h) / 2, 1)\n",
        "#\n",
        "#        xmin = int(self.imgSize[1] * xmin)\n",
        "#        xmax = int(self.imgSize[1] * xmax)\n",
        "#        ymin = int(self.imgSize[0] * ymin)\n",
        "#        ymax = int(self.imgSize[0] * ymax)\n",
        "        \n",
        "        xmin = int(xcen)\n",
        "        xmax = int(w)\n",
        "        ymin = int(ycen)\n",
        "        ymax = int(h)\n",
        "\n",
        "        return label, xmin, ymin, xmax, ymax\n",
        "\n",
        "    def parseYoloFormat(self):\n",
        "        bndBoxFile = open(self.filepath, 'r')\n",
        "        for bndBox in bndBoxFile:\n",
        "            classIndex, xcen, ycen, w, h = bndBox.split(' ')\n",
        "            label, xmin, ymin, xmax, ymax = self.yoloLine2Shape(classIndex, xcen, ycen, w, h)\n",
        "\n",
        "            # Caveat: difficult flag is discarded when saved as yolo format.\n",
        "            self.addShape(label, xmin, ymin, xmax, ymax, False)\n"
      ],
      "execution_count": 28,
      "outputs": []
    },
    {
      "cell_type": "code",
      "metadata": {
        "id": "0dc7L7UxtB2L"
      },
      "source": [
        "# from pascal_voc_io import XML_EXT\n",
        "# from tqdm import tqdm\n",
        "# from pascal_voc_io import PascalVocWriter\n",
        "# from yolo_io import YoloReader\n",
        "import os.path\n",
        "import sys\n",
        "from PyQt5.QtGui import QImage\n",
        "# try:\n",
        "#     from PyQt5.QtGui import QImage\n",
        "# except ImportError:\n",
        "#     from PyQt4.QtGui import QImage"
      ],
      "execution_count": 29,
      "outputs": []
    },
    {
      "cell_type": "code",
      "metadata": {
        "id": "O8hhAKmrdeDV"
      },
      "source": [
        "imgFolderPath = \"CTU_2021_prediction/\"\n",
        "VOCFolderpath = \"VOC_annot/\"\n",
        "if not os.path.exists(VOCFolderpath):\n",
        "    os.makedirs(VOCFolderpath)"
      ],
      "execution_count": 54,
      "outputs": []
    },
    {
      "cell_type": "markdown",
      "metadata": {
        "id": "u58TkCckwwN1"
      },
      "source": [
        "- Tạo file classes.txt bao gồm tên các class theo đúng thứ tự (tên mỗi class trên một dòng)\n",
        "- Lưu trong cùng thư mục với thư mục chứa các file txt."
      ]
    },
    {
      "cell_type": "code",
      "metadata": {
        "id": "Ea5mkWytspJU",
        "colab": {
          "base_uri": "https://localhost:8080/",
          "height": 49,
          "referenced_widgets": [
            "fcd469e5a9ca4812a2d3e8e117d3e984",
            "4cd75374768445e8968107782ba56ddb",
            "6c186704fa3f4b7b9a40f507e6f38ca0",
            "85c1ff6511fe4783aff67dbeb2b07c31",
            "780f009c852548ff85b23dbab377cdd2",
            "1985e877ff6c454fb7d08b3c08faf05c",
            "fc8b399b38e14f1cac232a5a17c4607f",
            "9e448df8834f490ea14b04cf7bbf3f50",
            "a457cbdf558f4c76984bfd31d56cbadc",
            "5bc8f78b36154459bcbed67e3d38a7ab",
            "56b06775779d4e07909363def200d4aa"
          ]
        },
        "outputId": "32487e4e-0009-42c3-8800-44a42607dbc9"
      },
      "source": [
        "# Search all yolo annotation (txt files) in this folder\n",
        "for file in tqdm(os.listdir(imgFolderPath)):\n",
        "    if file.endswith(\".txt\") and file != \"classes.txt\":\n",
        "\n",
        "        annotation_no_txt = os.path.splitext(file)[0]\n",
        "\n",
        "        imagePath = imgFolderPath + \"/\" + annotation_no_txt + \".jpg\"\n",
        "        if not os.path.isfile(imagePath):\n",
        "            imagePath = imgFolderPath + \"/\" + annotation_no_txt + \".jpeg\"\n",
        "            if not os.path.isfile(imagePath):\n",
        "              imagePath = imgFolderPath + \"/\" + annotation_no_txt + \".JPG\"\n",
        "\n",
        "        image = QImage()\n",
        "        image.load(imagePath)\n",
        "        imageShape = [image.height(), image.width(), 1 if image.isGrayscale() else 3]\n",
        "        imgFolderName = os.path.basename(imgFolderPath)\n",
        "        imgFileName = os.path.basename(imagePath)\n",
        "\n",
        "        writer = PascalVocWriter(imgFolderName, imgFileName, imageShape, localImgPath=imagePath)\n",
        "\n",
        "\n",
        "        # Read YOLO file\n",
        "        txtPath = imgFolderPath + \"/\" + file\n",
        "        tYoloParseReader = YoloReader(txtPath, image)\n",
        "        shapes = tYoloParseReader.getShapes()\n",
        "        num_of_box = len(shapes)\n",
        "\n",
        "        for i in range(num_of_box):\n",
        "            label = shapes[i][0]\n",
        "            xmin = shapes[i][1][0][0]\n",
        "            ymin = shapes[i][1][0][1]\n",
        "            x_max = shapes[i][1][2][0]\n",
        "            y_max = shapes[i][1][2][1]\n",
        "\n",
        "            writer.addBndBox(xmin, ymin, x_max, y_max, label, 0)\n",
        "\n",
        "        writer.save(targetFile= VOCFolderpath + \"/\" + annotation_no_txt + \".xml\")\n"
      ],
      "execution_count": 57,
      "outputs": [
        {
          "output_type": "display_data",
          "data": {
            "application/vnd.jupyter.widget-view+json": {
              "model_id": "fcd469e5a9ca4812a2d3e8e117d3e984",
              "version_minor": 0,
              "version_major": 2
            },
            "text/plain": [
              "  0%|          | 0/29040 [00:00<?, ?it/s]"
            ]
          },
          "metadata": {
            "tags": []
          }
        }
      ]
    },
    {
      "cell_type": "markdown",
      "metadata": {
        "id": "32-8qvoTEipg"
      },
      "source": [
        "# Visualize Ground-Truth vs Predict in class"
      ]
    },
    {
      "cell_type": "code",
      "metadata": {
        "id": "jWpg7T2q3I0t"
      },
      "source": [
        "import pandas as pd\n",
        "import numpy as np\n",
        "def read_ann_pred(file):\n",
        "    filesize = os.path.getsize(file)\n",
        "    if filesize == 0:\n",
        "        return []\n",
        "    else:\n",
        "        ann = pd.read_csv(file, header = None, sep = ' ')\n",
        "        ann = ann[ann[0] == 3]\n",
        "        return np.array(ann.iloc[:,1:])"
      ],
      "execution_count": null,
      "outputs": []
    },
    {
      "cell_type": "code",
      "metadata": {
        "id": "n97-ep3d8DD3"
      },
      "source": [
        "import xml.etree.ElementTree as ET\n",
        "def read_ann_gt(file):\n",
        "    ann = []\n",
        "    tree = ET.parse(file)\n",
        "    root = tree.getroot()\n",
        "    for element in root:\n",
        "        if (element.tag=='object'):\n",
        "            if element[0].text == \"formula\":\n",
        "                ann.append([int(element[4][0].text), int(element[4][1].text),\n",
        "                        int(element[4][2].text), int(element[4][3].text)])\n",
        "    return ann"
      ],
      "execution_count": null,
      "outputs": []
    },
    {
      "cell_type": "code",
      "metadata": {
        "id": "x9rztppe_gWx"
      },
      "source": [
        "from PIL import Image\n",
        "from PIL import Image\n",
        "from PIL import ImageFont, ImageDraw\n",
        "def draw_bbox(image, gts, preds, save_folder):\n",
        "    img = Image.open(image)\n",
        "    if img.mode == 'L':\n",
        "        img = img.convert('RGB')\n",
        "    draw = ImageDraw.Draw(img, 'RGBA')\n",
        "    if len(preds) > 0:\n",
        "        for pred in preds:\n",
        "            draw.rectangle((pred[0], pred[1], pred[2], pred[3]),\n",
        "                        outline = (255, 0, 0), width = 5)\n",
        "    if len(gts) > 0:\n",
        "        for gt in gts:\n",
        "            draw.rectangle((gt[0], gt[1], gt[2], gt[3]),\n",
        "                        outline = (0, 255, 0),width = 5)\n",
        "    out_file = os.path.join(save_folder, image.split('/')[-1])\n",
        "    img.save(out_file)"
      ],
      "execution_count": null,
      "outputs": []
    },
    {
      "cell_type": "code",
      "metadata": {
        "id": "DMcJs1zjGoW8"
      },
      "source": [
        "for i in tqdm(os.listdir('imgs')):\n",
        "    img = os.path.join('imgs', i)\n",
        "\n",
        "    gt_file = (img.split('.')[0] + '.xml')\n",
        "    gt_file = gt_file.split('/')[-1]\n",
        "\n",
        "    pred_file = (img.split('.')[0] + '.txt')\n",
        "    pred_file = pred_file.split('/')[-1]\n",
        "\n",
        "\n",
        "\n",
        "    gt = read_ann_gt(os.path.join('gt', gt_file))\n",
        "    pred = read_ann_pred(os.path.join('predict_cascade', pred_file))\n",
        "\n",
        "    save = 'formula_cascade'\n",
        "\n",
        "    draw_bbox(img, gt, pred, save)"
      ],
      "execution_count": null,
      "outputs": []
    },
    {
      "cell_type": "code",
      "metadata": {
        "id": "ONF-YTiSI0Lq"
      },
      "source": [
        "for i in tqdm(os.listdir('imgs')):\n",
        "    img = os.path.join('imgs', i)\n",
        "\n",
        "    gt_file = (img.split('.')[0] + '.xml')\n",
        "    gt_file = gt_file.split('/')[-1]\n",
        "    pred_file = (img.split('.')[0] + '.txt')\n",
        "    pred_file = pred_file.split('/')[-1]\n",
        "\n",
        "    gt = read_ann_gt(os.path.join('gt', gt_file))\n",
        "    pred = read_ann_pred(os.path.join('predict_faster', pred_file))\n",
        "\n",
        "    save = 'formula_faster'\n",
        "\n",
        "    draw_bbox(img, gt, pred, save)"
      ],
      "execution_count": null,
      "outputs": []
    }
  ]
}