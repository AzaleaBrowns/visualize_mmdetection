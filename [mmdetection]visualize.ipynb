{
  "nbformat": 4,
  "nbformat_minor": 0,
  "metadata": {
    "accelerator": "GPU",
    "colab": {
      "name": "[mmdetection]visualize.ipynb",
      "provenance": [],
      "collapsed_sections": [],
      "toc_visible": true,
      "machine_shape": "hm"
    },
    "kernelspec": {
      "display_name": "Python 3",
      "name": "python3"
    }
  },
  "cells": [
    {
      "cell_type": "markdown",
      "metadata": {
        "id": "tJxJHruNLb7Y"
      },
      "source": [
        "## Install MMDetection"
      ]
    },
    {
      "cell_type": "code",
      "metadata": {
        "colab": {
          "base_uri": "https://localhost:8080/"
        },
        "id": "Wi4LPmsR66sy",
        "outputId": "d3971aab-3045-42f7-b849-f2baf3bf783f"
      },
      "source": [
        "# Check nvcc version\n",
        "!nvcc -V\n",
        "# Check GCC version\n",
        "!gcc --version"
      ],
      "execution_count": null,
      "outputs": [
        {
          "output_type": "stream",
          "text": [
            "nvcc: NVIDIA (R) Cuda compiler driver\n",
            "Copyright (c) 2005-2020 NVIDIA Corporation\n",
            "Built on Wed_Jul_22_19:09:09_PDT_2020\n",
            "Cuda compilation tools, release 11.0, V11.0.221\n",
            "Build cuda_11.0_bu.TC445_37.28845127_0\n",
            "gcc (Ubuntu 7.5.0-3ubuntu1~18.04) 7.5.0\n",
            "Copyright (C) 2017 Free Software Foundation, Inc.\n",
            "This is free software; see the source for copying conditions.  There is NO\n",
            "warranty; not even for MERCHANTABILITY or FITNESS FOR A PARTICULAR PURPOSE.\n",
            "\n"
          ],
          "name": "stdout"
        }
      ]
    },
    {
      "cell_type": "code",
      "metadata": {
        "colab": {
          "base_uri": "https://localhost:8080/"
        },
        "id": "Ni--ASSuBGGv",
        "outputId": "950ba1b3-6372-4b6e-80a0-c93ca1c02d69"
      },
      "source": [
        "# install dependencies: (use cu101 because colab has CUDA 10.1)\n",
        "!pip install -U torch==1.5.1+cu101 torchvision==0.6.1+cu101 -f https://download.pytorch.org/whl/torch_stable.html"
      ],
      "execution_count": null,
      "outputs": [
        {
          "output_type": "stream",
          "text": [
            "Looking in links: https://download.pytorch.org/whl/torch_stable.html\n",
            "Collecting torch==1.5.1+cu101\n",
            "\u001b[?25l  Downloading https://download.pytorch.org/whl/cu101/torch-1.5.1%2Bcu101-cp37-cp37m-linux_x86_64.whl (704.4MB)\n",
            "\u001b[K     |████████████████████████████████| 704.4MB 26kB/s \n",
            "\u001b[?25hCollecting torchvision==0.6.1+cu101\n",
            "\u001b[?25l  Downloading https://download.pytorch.org/whl/cu101/torchvision-0.6.1%2Bcu101-cp37-cp37m-linux_x86_64.whl (6.6MB)\n",
            "\u001b[K     |████████████████████████████████| 6.7MB 46.3MB/s \n",
            "\u001b[?25hRequirement already satisfied, skipping upgrade: numpy in /usr/local/lib/python3.7/dist-packages (from torch==1.5.1+cu101) (1.19.5)\n",
            "Requirement already satisfied, skipping upgrade: future in /usr/local/lib/python3.7/dist-packages (from torch==1.5.1+cu101) (0.16.0)\n",
            "Requirement already satisfied, skipping upgrade: pillow>=4.1.1 in /usr/local/lib/python3.7/dist-packages (from torchvision==0.6.1+cu101) (7.1.2)\n",
            "\u001b[31mERROR: torchtext 0.9.1 has requirement torch==1.8.1, but you'll have torch 1.5.1+cu101 which is incompatible.\u001b[0m\n",
            "Installing collected packages: torch, torchvision\n",
            "  Found existing installation: torch 1.8.1+cu101\n",
            "    Uninstalling torch-1.8.1+cu101:\n",
            "      Successfully uninstalled torch-1.8.1+cu101\n",
            "  Found existing installation: torchvision 0.9.1+cu101\n",
            "    Uninstalling torchvision-0.9.1+cu101:\n",
            "      Successfully uninstalled torchvision-0.9.1+cu101\n",
            "Successfully installed torch-1.5.1+cu101 torchvision-0.6.1+cu101\n"
          ],
          "name": "stdout"
        }
      ]
    },
    {
      "cell_type": "code",
      "metadata": {
        "colab": {
          "base_uri": "https://localhost:8080/"
        },
        "id": "Yu4lB50HBHOG",
        "outputId": "b0b646c0-ec61-43cc-836e-96945f995228"
      },
      "source": [
        "# install mmcv-full thus we could use CUDA operators\n",
        "!pip install mmcv-full"
      ],
      "execution_count": null,
      "outputs": [
        {
          "output_type": "stream",
          "text": [
            "Collecting mmcv-full\n",
            "\u001b[?25l  Downloading https://files.pythonhosted.org/packages/b5/3c/344626bf6e39b98250e2bfb54bcbd40514be7c9c3f37d972db7c7b050018/mmcv-full-1.3.5.tar.gz (303kB)\n",
            "\u001b[K     |████████████████████████████████| 307kB 2.8MB/s \n",
            "\u001b[?25hCollecting addict\n",
            "  Downloading https://files.pythonhosted.org/packages/6a/00/b08f23b7d7e1e14ce01419a467b583edbb93c6cdb8654e54a9cc579cd61f/addict-2.4.0-py3-none-any.whl\n",
            "Requirement already satisfied: numpy in /usr/local/lib/python3.7/dist-packages (from mmcv-full) (1.19.5)\n",
            "Requirement already satisfied: Pillow in /usr/local/lib/python3.7/dist-packages (from mmcv-full) (7.1.2)\n",
            "Requirement already satisfied: pyyaml in /usr/local/lib/python3.7/dist-packages (from mmcv-full) (3.13)\n",
            "Collecting yapf\n",
            "\u001b[?25l  Downloading https://files.pythonhosted.org/packages/5f/0d/8814e79eb865eab42d95023b58b650d01dec6f8ea87fc9260978b1bf2167/yapf-0.31.0-py2.py3-none-any.whl (185kB)\n",
            "\u001b[K     |████████████████████████████████| 194kB 7.8MB/s \n",
            "\u001b[?25hBuilding wheels for collected packages: mmcv-full\n",
            "  Building wheel for mmcv-full (setup.py) ... \u001b[?25l\u001b[?25hdone\n",
            "  Created wheel for mmcv-full: filename=mmcv_full-1.3.5-cp37-cp37m-linux_x86_64.whl size=25679853 sha256=c9de4756ab8c9498f8478125cf8b567a257d3345b94619de02e6c1afa4d10855\n",
            "  Stored in directory: /root/.cache/pip/wheels/06/1b/49/7a6ca2a423aa7ad9cbd2caf83f10e0ee09aa06e109994dcc0b\n",
            "Successfully built mmcv-full\n",
            "Installing collected packages: addict, yapf, mmcv-full\n",
            "Successfully installed addict-2.4.0 mmcv-full-1.3.5 yapf-0.31.0\n"
          ],
          "name": "stdout"
        }
      ]
    },
    {
      "cell_type": "code",
      "metadata": {
        "colab": {
          "base_uri": "https://localhost:8080/"
        },
        "id": "dk6GgsyYBI0-",
        "outputId": "38e1d16c-6873-479f-c06f-26d024a397c8"
      },
      "source": [
        "# # Install mmdetection\n",
        "!rm -rf mmdetection\n",
        "!git clone https://github.com/open-mmlab/mmdetection.git\n",
        "%cd mmdetection"
      ],
      "execution_count": null,
      "outputs": [
        {
          "output_type": "stream",
          "text": [
            "/content/drive/MyDrive/UIT/Research/DIU/model/mmdetection\n"
          ],
          "name": "stdout"
        }
      ]
    },
    {
      "cell_type": "code",
      "metadata": {
        "colab": {
          "base_uri": "https://localhost:8080/"
        },
        "id": "Y0tt_nDyBJTf",
        "outputId": "e896d2de-a82d-46cd-d998-0bfa4674941e"
      },
      "source": [
        "!pip install -e ."
      ],
      "execution_count": null,
      "outputs": [
        {
          "output_type": "stream",
          "text": [
            "Obtaining file:///content/drive/My%20Drive/UIT/Research/DIU/model/mmdetection\n",
            "Requirement already satisfied: matplotlib in /usr/local/lib/python3.7/dist-packages (from mmdet==2.11.0) (3.2.2)\n",
            "Collecting mmpycocotools\n",
            "  Downloading https://files.pythonhosted.org/packages/99/51/1bc1d79f296347eeb2d1a2e0606885ab1e4682833bf275fd39c189952e26/mmpycocotools-12.0.3.tar.gz\n",
            "Requirement already satisfied: numpy in /usr/local/lib/python3.7/dist-packages (from mmdet==2.11.0) (1.19.5)\n",
            "Requirement already satisfied: six in /usr/local/lib/python3.7/dist-packages (from mmdet==2.11.0) (1.15.0)\n",
            "Collecting terminaltables\n",
            "  Downloading https://files.pythonhosted.org/packages/9b/c4/4a21174f32f8a7e1104798c445dacdc1d4df86f2f26722767034e4de4bff/terminaltables-3.1.0.tar.gz\n",
            "Requirement already satisfied: python-dateutil>=2.1 in /usr/local/lib/python3.7/dist-packages (from matplotlib->mmdet==2.11.0) (2.8.1)\n",
            "Requirement already satisfied: pyparsing!=2.0.4,!=2.1.2,!=2.1.6,>=2.0.1 in /usr/local/lib/python3.7/dist-packages (from matplotlib->mmdet==2.11.0) (2.4.7)\n",
            "Requirement already satisfied: cycler>=0.10 in /usr/local/lib/python3.7/dist-packages (from matplotlib->mmdet==2.11.0) (0.10.0)\n",
            "Requirement already satisfied: kiwisolver>=1.0.1 in /usr/local/lib/python3.7/dist-packages (from matplotlib->mmdet==2.11.0) (1.3.1)\n",
            "Requirement already satisfied: setuptools>=18.0 in /usr/local/lib/python3.7/dist-packages (from mmpycocotools->mmdet==2.11.0) (56.1.0)\n",
            "Requirement already satisfied: cython>=0.27.3 in /usr/local/lib/python3.7/dist-packages (from mmpycocotools->mmdet==2.11.0) (0.29.23)\n",
            "Building wheels for collected packages: mmpycocotools, terminaltables\n",
            "  Building wheel for mmpycocotools (setup.py) ... \u001b[?25l\u001b[?25hdone\n",
            "  Created wheel for mmpycocotools: filename=mmpycocotools-12.0.3-cp37-cp37m-linux_x86_64.whl size=264270 sha256=f49d1f99482c6ef6d4058f42fe2b755d731f9fa00c5163b002a936ec436fd475\n",
            "  Stored in directory: /root/.cache/pip/wheels/a2/b0/8d/3307912785a42bc80f673946fac676d5c596eee537af7a599c\n",
            "  Building wheel for terminaltables (setup.py) ... \u001b[?25l\u001b[?25hdone\n",
            "  Created wheel for terminaltables: filename=terminaltables-3.1.0-cp37-none-any.whl size=15356 sha256=9a839206c8c4ae6642d0ff32e268b740e039726ae30960ee79f95dc763730758\n",
            "  Stored in directory: /root/.cache/pip/wheels/30/6b/50/6c75775b681fb36cdfac7f19799888ef9d8813aff9e379663e\n",
            "Successfully built mmpycocotools terminaltables\n",
            "Installing collected packages: mmpycocotools, terminaltables, mmdet\n",
            "  Running setup.py develop for mmdet\n",
            "Successfully installed mmdet mmpycocotools-12.0.3 terminaltables-3.1.0\n"
          ],
          "name": "stdout"
        }
      ]
    },
    {
      "cell_type": "code",
      "metadata": {
        "colab": {
          "base_uri": "https://localhost:8080/",
          "height": 298
        },
        "id": "gkGnB9WyHSXB",
        "outputId": "01dec55f-41ba-4cd3-a11d-c88821fc5e74"
      },
      "source": [
        "# install Pillow 7.0.0 back in order to avoid bug in colab\n",
        "!pip install Pillow==7.0.0"
      ],
      "execution_count": null,
      "outputs": [
        {
          "output_type": "stream",
          "text": [
            "Collecting Pillow==7.0.0\n",
            "\u001b[?25l  Downloading https://files.pythonhosted.org/packages/f5/79/b2d5695d1a931474fa68b68ec93bdf08ba9acbc4d6b3b628eb6aac81d11c/Pillow-7.0.0-cp37-cp37m-manylinux1_x86_64.whl (2.1MB)\n",
            "\u001b[K     |████████████████████████████████| 2.1MB 2.9MB/s \n",
            "\u001b[31mERROR: bokeh 2.3.2 has requirement pillow>=7.1.0, but you'll have pillow 7.0.0 which is incompatible.\u001b[0m\n",
            "\u001b[31mERROR: albumentations 0.1.12 has requirement imgaug<0.2.7,>=0.2.5, but you'll have imgaug 0.2.9 which is incompatible.\u001b[0m\n",
            "\u001b[?25hInstalling collected packages: Pillow\n",
            "  Found existing installation: Pillow 7.1.2\n",
            "    Uninstalling Pillow-7.1.2:\n",
            "      Successfully uninstalled Pillow-7.1.2\n",
            "Successfully installed Pillow-7.0.0\n"
          ],
          "name": "stdout"
        },
        {
          "output_type": "display_data",
          "data": {
            "application/vnd.colab-display-data+json": {
              "pip_warning": {
                "packages": [
                  "PIL"
                ]
              }
            }
          },
          "metadata": {
            "tags": []
          }
        }
      ]
    },
    {
      "cell_type": "code",
      "metadata": {
        "colab": {
          "base_uri": "https://localhost:8080/"
        },
        "id": "6hD0mmMixT0p",
        "outputId": "4faf5821-b828-4c88-b3e0-25f16760793f"
      },
      "source": [
        "# Check Pytorch installation\n",
        "import torch, torchvision\n",
        "print(torch.__version__, torch.cuda.is_available())\n",
        "\n",
        "# Check MMDetection installation\n",
        "import mmdet\n",
        "print(mmdet.__version__)\n",
        "\n",
        "# Check mmcv installation\n",
        "from mmcv.ops import get_compiling_cuda_version, get_compiler_version\n",
        "print(get_compiling_cuda_version())\n",
        "print(get_compiler_version())"
      ],
      "execution_count": null,
      "outputs": [
        {
          "output_type": "stream",
          "text": [
            "1.5.1+cu101 True\n",
            "2.11.0\n",
            "11.0\n",
            "GCC 7.5\n"
          ],
          "name": "stdout"
        }
      ]
    },
    {
      "cell_type": "markdown",
      "metadata": {
        "id": "jFw_5R_nxt44"
      },
      "source": [
        "## Exporting image prediction"
      ]
    },
    {
      "cell_type": "code",
      "metadata": {
        "id": "IhWNxXqkE0R8"
      },
      "source": [
        "import warnings\n",
        "warnings.filterwarnings(\"ignore\")\n",
        "from mmdet.apis import init_detector, inference_detector, show_result_pyplot\n",
        "import mmcv\n",
        "import os.path\n",
        "from mmdet.models.detectors import BaseDetector\n",
        "#BaseDetector.show_result instead of show_result\n",
        "#import os.path as osp\n",
        "import pickle\n",
        "import shutil\n",
        "import tempfile\n",
        "import time\n",
        "from PIL import Image\n",
        "\n",
        "\n",
        "import mmcv\n",
        "import torch\n",
        "import torch.distributed as dist\n",
        "from mmcv.runner import get_dist_info\n",
        "from numpy import asarray\n",
        "from mmcv.utils import is_str\n",
        "from tqdm.notebook import tqdm"
      ],
      "execution_count": null,
      "outputs": []
    },
    {
      "cell_type": "code",
      "metadata": {
        "colab": {
          "base_uri": "https://localhost:8080/"
        },
        "id": "OFswqnwsE11N",
        "outputId": "120d78d4-abbe-497f-fc04-64a06abda40e"
      },
      "source": [
        "#from mmdet.core import encode_mask_results, tensor2imgs\n",
        "config_fname = '/content/drive/MyDrive/UIT/Research/DIU/model/cfg.py'\n",
        "checkpoint_fname = '/content/drive/MyDrive/UIT/Research/DIU/model/best_bbox_mAP_epoch_22.pth'\n",
        "model = init_detector(config_fname, checkpoint_fname)"
      ],
      "execution_count": null,
      "outputs": [
        {
          "output_type": "stream",
          "text": [
            "Use load_from_local loader\n"
          ],
          "name": "stdout"
        }
      ]
    },
    {
      "cell_type": "code",
      "metadata": {
        "id": "IHmAqHKdGmL9"
      },
      "source": [
        "import os\n",
        "imgFolderPath = \"/content/drive/MyDrive/UIT/Research/DIU/data/data_train/test/images/\"\n",
        "outputFolderPath = \"results_icdar19/\"\n",
        "if not os.path.exists(outputFolderPath):\n",
        "    os.makedirs(outputFolderPath)"
      ],
      "execution_count": null,
      "outputs": []
    },
    {
      "cell_type": "code",
      "metadata": {
        "id": "Ok1gxx2sGZSc"
      },
      "source": [
        "for file in tqdm(os.listdir(imgFolderPath)):\n",
        "  if file.endswith(\".jpg\") or file.endswith(\".jpeg\") or file.endswith(\".JPG\"):\n",
        "    img = os.path.join(imgFolderPath, file)\n",
        "    result = inference_detector(model, img)\n",
        "    model.show_result(img, result, out_file= outputFolderPath + file)\n",
        " "
      ],
      "execution_count": null,
      "outputs": []
    },
    {
      "cell_type": "markdown",
      "metadata": {
        "id": "aH7YIv04e29-"
      },
      "source": [
        "# Convert ouput prediction to VOC format"
      ]
    },
    {
      "cell_type": "code",
      "metadata": {
        "id": "mpfFzaOibjX1"
      },
      "source": [
        "! pip install pyqt5"
      ],
      "execution_count": null,
      "outputs": []
    },
    {
      "cell_type": "code",
      "metadata": {
        "id": "3KTDG0BCc8T3"
      },
      "source": [
        "#!/usr/bin/env python\n",
        "# -*- coding: utf8 -*-\n",
        "import sys\n",
        "from xml.etree import ElementTree\n",
        "from xml.etree.ElementTree import Element, SubElement\n",
        "from lxml import etree\n",
        "import codecs\n",
        "\n",
        "XML_EXT = '.xml'\n",
        "ENCODE_METHOD = 'utf-8'\n",
        "\n",
        "class PascalVocWriter:\n",
        "\n",
        "    def __init__(self, foldername, filename, imgSize,databaseSrc='Unknown', localImgPath=None):\n",
        "        self.foldername = foldername\n",
        "        self.filename = filename\n",
        "        self.databaseSrc = databaseSrc\n",
        "        self.imgSize = imgSize\n",
        "        self.boxlist = []\n",
        "        self.localImgPath = localImgPath\n",
        "        self.verified = False\n",
        "\n",
        "    def prettify(self, elem):\n",
        "        \"\"\"\n",
        "            Return a pretty-printed XML string for the Element.\n",
        "        \"\"\"\n",
        "        rough_string = ElementTree.tostring(elem, 'utf8')\n",
        "        root = etree.fromstring(rough_string)\n",
        "        return etree.tostring(root, pretty_print=True, encoding=ENCODE_METHOD).replace(\"  \".encode(), \"\\t\".encode())\n",
        "        # minidom does not support UTF-8\n",
        "        '''reparsed = minidom.parseString(rough_string)\n",
        "        return reparsed.toprettyxml(indent=\"\\t\", encoding=ENCODE_METHOD)'''\n",
        "\n",
        "    def genXML(self):\n",
        "        \"\"\"\n",
        "            Return XML root\n",
        "        \"\"\"\n",
        "        # Check conditions\n",
        "        if self.filename is None or \\\n",
        "                self.foldername is None or \\\n",
        "                self.imgSize is None:\n",
        "            return None\n",
        "\n",
        "        top = Element('annotation')\n",
        "        if self.verified:\n",
        "            top.set('verified', 'yes')\n",
        "\n",
        "        folder = SubElement(top, 'folder')\n",
        "        folder.text = self.foldername\n",
        "\n",
        "        filename = SubElement(top, 'filename')\n",
        "        filename.text = self.filename\n",
        "\n",
        "        if self.localImgPath is not None:\n",
        "            localImgPath = SubElement(top, 'path')\n",
        "            localImgPath.text = self.localImgPath\n",
        "\n",
        "        source = SubElement(top, 'source')\n",
        "        database = SubElement(source, 'database')\n",
        "        database.text = self.databaseSrc\n",
        "\n",
        "        size_part = SubElement(top, 'size')\n",
        "        width = SubElement(size_part, 'width')\n",
        "        height = SubElement(size_part, 'height')\n",
        "        depth = SubElement(size_part, 'depth')\n",
        "        width.text = str(self.imgSize[1])\n",
        "        height.text = str(self.imgSize[0])\n",
        "        if len(self.imgSize) == 3:\n",
        "            depth.text = str(self.imgSize[2])\n",
        "        else:\n",
        "            depth.text = '1'\n",
        "\n",
        "        segmented = SubElement(top, 'segmented')\n",
        "        segmented.text = '0'\n",
        "        return top\n",
        "\n",
        "    def addBndBox(self, xmin, ymin, xmax, ymax, name, difficult):\n",
        "        bndbox = {'xmin': xmin, 'ymin': ymin, 'xmax': xmax, 'ymax': ymax}\n",
        "        bndbox['name'] = name\n",
        "        bndbox['difficult'] = difficult\n",
        "        self.boxlist.append(bndbox)\n",
        "\n",
        "    def appendObjects(self, top):\n",
        "        for each_object in self.boxlist:\n",
        "            object_item = SubElement(top, 'object')\n",
        "            name = SubElement(object_item, 'name')\n",
        "            try:\n",
        "                name.text = unicode(each_object['name'])\n",
        "            except NameError:\n",
        "                # Py3: NameError: name 'unicode' is not defined\n",
        "                name.text = each_object['name']\n",
        "            pose = SubElement(object_item, 'pose')\n",
        "            pose.text = \"Unspecified\"\n",
        "            truncated = SubElement(object_item, 'truncated')\n",
        "            if int(each_object['ymax']) == int(self.imgSize[0]) or (int(each_object['ymin'])== 1):\n",
        "                truncated.text = \"1\" # max == height or min\n",
        "            elif (int(each_object['xmax'])==int(self.imgSize[1])) or (int(each_object['xmin'])== 1):\n",
        "                truncated.text = \"1\" # max == width or min\n",
        "            else:\n",
        "                truncated.text = \"0\"\n",
        "            difficult = SubElement(object_item, 'difficult')\n",
        "            difficult.text = str( bool(each_object['difficult']) & 1 )\n",
        "            bndbox = SubElement(object_item, 'bndbox')\n",
        "            xmin = SubElement(bndbox, 'xmin')\n",
        "            xmin.text = str(each_object['xmin'])\n",
        "            ymin = SubElement(bndbox, 'ymin')\n",
        "            ymin.text = str(each_object['ymin'])\n",
        "            xmax = SubElement(bndbox, 'xmax')\n",
        "            xmax.text = str(each_object['xmax'])\n",
        "            ymax = SubElement(bndbox, 'ymax')\n",
        "            ymax.text = str(each_object['ymax'])\n",
        "\n",
        "    def save(self, targetFile=None):\n",
        "        root = self.genXML()\n",
        "        self.appendObjects(root)\n",
        "        out_file = None\n",
        "        if targetFile is None:\n",
        "            out_file = codecs.open(\n",
        "                self.filename + XML_EXT, 'w', encoding=ENCODE_METHOD)\n",
        "        else:\n",
        "            out_file = codecs.open(targetFile, 'w', encoding=ENCODE_METHOD)\n",
        "\n",
        "        prettifyResult = self.prettify(root)\n",
        "        out_file.write(prettifyResult.decode('utf8'))\n",
        "        out_file.close()\n",
        "\n",
        "\n",
        "class PascalVocReader:\n",
        "\n",
        "    def __init__(self, filepath):\n",
        "        # shapes type:\n",
        "        # [labbel, [(x1,y1), (x2,y2), (x3,y3), (x4,y4)], color, color, difficult]\n",
        "        self.shapes = []\n",
        "        self.filepath = filepath\n",
        "        self.verified = False\n",
        "        try:\n",
        "            self.parseXML()\n",
        "        except:\n",
        "            pass\n",
        "\n",
        "    def getShapes(self):\n",
        "        return self.shapes\n",
        "\n",
        "    def addShape(self, label, bndbox, difficult):\n",
        "        xmin = int(bndbox.find('xmin').text)\n",
        "        ymin = int(bndbox.find('ymin').text)\n",
        "        xmax = int(bndbox.find('xmax').text)\n",
        "        ymax = int(bndbox.find('ymax').text)\n",
        "        points = [(xmin, ymin), (xmax, ymin), (xmax, ymax), (xmin, ymax)]\n",
        "        self.shapes.append((label, points, None, None, difficult))\n",
        "\n",
        "    def parseXML(self):\n",
        "        assert self.filepath.endswith(XML_EXT), \"Unsupport file format\"\n",
        "        parser = etree.XMLParser(encoding=ENCODE_METHOD)\n",
        "        xmltree = ElementTree.parse(self.filepath, parser=parser).getroot()\n",
        "        filename = xmltree.find('filename').text\n",
        "        try:\n",
        "            verified = xmltree.attrib['verified']\n",
        "            if verified == 'yes':\n",
        "                self.verified = True\n",
        "        except KeyError:\n",
        "            self.verified = False\n",
        "\n",
        "        for object_iter in xmltree.findall('object'):\n",
        "            bndbox = object_iter.find(\"bndbox\")\n",
        "            label = object_iter.find('name').text\n",
        "            # Add chris\n",
        "            difficult = False\n",
        "            if object_iter.find('difficult') is not None:\n",
        "                difficult = bool(int(object_iter.find('difficult').text))\n",
        "            self.addShape(label, bndbox, difficult)\n",
        "        return True"
      ],
      "execution_count": null,
      "outputs": []
    },
    {
      "cell_type": "code",
      "metadata": {
        "id": "VI1gDqWqdBL0"
      },
      "source": [
        "#!/usr/bin/env python\n",
        "# -*- coding: utf8 -*-\n",
        "import sys\n",
        "import os\n",
        "from xml.etree import ElementTree\n",
        "from xml.etree.ElementTree import Element, SubElement\n",
        "from lxml import etree\n",
        "import codecs\n",
        "# from constants import DEFAULT_ENCODING\n",
        "\n",
        "TXT_EXT = '.txt'\n",
        "ENCODE_METHOD = 'utf-8'\n",
        "ENCODE_METHOD = DEFAULT_ENCODING\n",
        "\n",
        "class YOLOWriter:\n",
        "\n",
        "    def __init__(self, foldername, filename, imgSize, databaseSrc='Unknown', localImgPath=None):\n",
        "        self.foldername = foldername\n",
        "        self.filename = filename\n",
        "        self.databaseSrc = databaseSrc\n",
        "        self.imgSize = imgSize\n",
        "        self.boxlist = []\n",
        "        self.localImgPath = localImgPath\n",
        "        self.verified = False\n",
        "\n",
        "    def addBndBox(self, xmin, ymin, xmax, ymax, name, difficult):\n",
        "        bndbox = {'xmin': xmin, 'ymin': ymin, 'xmax': xmax, 'ymax': ymax}\n",
        "        bndbox['name'] = name\n",
        "        bndbox['difficult'] = difficult\n",
        "        self.boxlist.append(bndbox)\n",
        "\n",
        "    def BndBox2YoloLine(self, box, classList=[]):\n",
        "        xmin = box['xmin']\n",
        "        xmax = box['xmax']\n",
        "        ymin = box['ymin']\n",
        "        ymax = box['ymax']\n",
        "\n",
        "        xcen = float((xmin + xmax)) / 2 / self.imgSize[1]\n",
        "        ycen = float((ymin + ymax)) / 2 / self.imgSize[0]\n",
        "\n",
        "        w = float((xmax - xmin)) / self.imgSize[1]\n",
        "        h = float((ymax - ymin)) / self.imgSize[0]\n",
        "\n",
        "        # PR387\n",
        "        boxName = box['name']\n",
        "        if boxName not in classList:\n",
        "            classList.append(boxName)\n",
        "\n",
        "        classIndex = classList.index(boxName)\n",
        "\n",
        "        return classIndex, xcen, ycen, w, h\n",
        "\n",
        "    def save(self, classList=[], targetFile=None):\n",
        "\n",
        "        out_file = None #Update yolo .txt\n",
        "        out_class_file = None   #Update class list .txt\n",
        "\n",
        "        if targetFile is None:\n",
        "            out_file = open(\n",
        "            self.filename + TXT_EXT, 'w', encoding=ENCODE_METHOD)\n",
        "            classesFile = os.path.join(os.path.dirname(os.path.abspath(self.filename)), \"classes.txt\")\n",
        "            out_class_file = open(classesFile, 'w')\n",
        "\n",
        "        else:\n",
        "            out_file = codecs.open(targetFile, 'w', encoding=ENCODE_METHOD)\n",
        "            classesFile = os.path.join(os.path.dirname(os.path.abspath(targetFile)), \"classes.txt\")\n",
        "            out_class_file = open(classesFile, 'w')\n",
        "\n",
        "\n",
        "        for box in self.boxlist:\n",
        "            classIndex, xcen, ycen, w, h = self.BndBox2YoloLine(box, classList)\n",
        "            # print (classIndex, xcen, ycen, w, h)\n",
        "            out_file.write(\"%d %.6f %.6f %.6f %.6f\\n\" % (classIndex, xcen, ycen, w, h))\n",
        "\n",
        "        # print (classList)\n",
        "        # print (out_class_file)\n",
        "        for c in classList:\n",
        "            out_class_file.write(c+'\\n')\n",
        "\n",
        "        out_class_file.close()\n",
        "        out_file.close()\n",
        "\n",
        "\n",
        "\n",
        "class YoloReader:\n",
        "\n",
        "    def __init__(self, filepath, image, classListPath=None):\n",
        "        # shapes type:\n",
        "        # [labbel, [(x1,y1), (x2,y2), (x3,y3), (x4,y4)], color, color, difficult]\n",
        "        self.shapes = []\n",
        "        self.filepath = filepath\n",
        "\n",
        "        if classListPath is None:\n",
        "            dir_path = os.path.dirname(os.path.realpath(self.filepath))\n",
        "            self.classListPath = os.path.join(dir_path, \"classes.txt\")\n",
        "        else:\n",
        "            self.classListPath = classListPath\n",
        "\n",
        "        # print (filepath, self.classListPath)\n",
        "\n",
        "        classesFile = open(self.classListPath, 'r')\n",
        "        self.classes = classesFile.read().strip('\\n').split('\\n')\n",
        "\n",
        "        # print (self.classes)\n",
        "\n",
        "        imgSize = [image.height(), image.width(),\n",
        "                      1 if image.isGrayscale() else 3]\n",
        "\n",
        "        self.imgSize = imgSize\n",
        "\n",
        "        self.verified = False\n",
        "        # try:\n",
        "        self.parseYoloFormat()\n",
        "        # except:\n",
        "            # pass\n",
        "\n",
        "    def getShapes(self):\n",
        "        return self.shapes\n",
        "\n",
        "    def addShape(self, label, xmin, ymin, xmax, ymax, difficult):\n",
        "\n",
        "        points = [(xmin, ymin), (xmax, ymin), (xmax, ymax), (xmin, ymax)]\n",
        "        self.shapes.append((label, points, None, None, difficult))\n",
        "\n",
        "    def getLabel(self, classIndex):\n",
        "        label = self.classes[int(classIndex)]\n",
        "        return label\n",
        "\n",
        "    def yoloLine2Shape(self, classIndex, xcen, ycen, w, h):\n",
        "        label = self.classes[int(classIndex)]\n",
        "\n",
        "#        xmin = max(float(xcen) - float(w) / 2, 0)\n",
        "#        xmax = min(float(xcen) + float(w) / 2, 1)\n",
        "#        ymin = max(float(ycen) - float(h) / 2, 0)\n",
        "#        ymax = min(float(ycen) + float(h) / 2, 1)\n",
        "#\n",
        "#        xmin = int(self.imgSize[1] * xmin)\n",
        "#        xmax = int(self.imgSize[1] * xmax)\n",
        "#        ymin = int(self.imgSize[0] * ymin)\n",
        "#        ymax = int(self.imgSize[0] * ymax)\n",
        "        \n",
        "        xmin = int(xcen)\n",
        "        xmax = int(w)\n",
        "        ymin = int(ycen)\n",
        "        ymax = int(h)\n",
        "\n",
        "        return label, xmin, ymin, xmax, ymax\n",
        "\n",
        "    def parseYoloFormat(self):\n",
        "        bndBoxFile = open(self.filepath, 'r')\n",
        "        for bndBox in bndBoxFile:\n",
        "            classIndex, xcen, ycen, w, h = bndBox.split(' ')\n",
        "            label, xmin, ymin, xmax, ymax = self.yoloLine2Shape(classIndex, xcen, ycen, w, h)\n",
        "\n",
        "            # Caveat: difficult flag is discarded when saved as yolo format.\n",
        "            self.addShape(label, xmin, ymin, xmax, ymax, False)\n"
      ],
      "execution_count": null,
      "outputs": []
    },
    {
      "cell_type": "code",
      "metadata": {
        "id": "0dc7L7UxtB2L"
      },
      "source": [
        "# from pascal_voc_io import XML_EXT\n",
        "# from tqdm import tqdm\n",
        "# from pascal_voc_io import PascalVocWriter\n",
        "# from yolo_io import YoloReader\n",
        "import os.path\n",
        "import sys\n",
        "from PyQt5.QtGui import QImage\n",
        "# try:\n",
        "#     from PyQt5.QtGui import QImage\n",
        "# except ImportError:\n",
        "#     from PyQt4.QtGui import QImage"
      ],
      "execution_count": null,
      "outputs": []
    },
    {
      "cell_type": "code",
      "metadata": {
        "id": "O8hhAKmrdeDV"
      },
      "source": [
        "imgFolderPath = '/content/drive/MyDrive/UIT/Research/DIU/model/mmdetection/visualize_uit_drone_testall_100'\n",
        "VOCFolderpath = \"/content/drive/MyDrive/UIT/Research/UIT_VirDrone/data/annot_xml/\""
      ],
      "execution_count": null,
      "outputs": []
    },
    {
      "cell_type": "code",
      "metadata": {
        "id": "yOiC9p-7eSG7"
      },
      "source": [
        "try:\n",
        "    os.mkdir(labels_voc_path)\n",
        "except:\n",
        "    pass"
      ],
      "execution_count": null,
      "outputs": []
    },
    {
      "cell_type": "markdown",
      "metadata": {
        "id": "u58TkCckwwN1"
      },
      "source": [
        "- Tạo file classes.txt bao gồm tên các class theo đúng thứ tự (tên mỗi class trên một dòng)\n",
        "- Lưu trong cùng thư mục với thư mục chứa các file txt."
      ]
    },
    {
      "cell_type": "code",
      "metadata": {
        "id": "Ea5mkWytspJU"
      },
      "source": [
        "# Search all yolo annotation (txt files) in this folder\n",
        "for file in tqdm(os.listdir(imgFolderPath)):\n",
        "    if file.endswith(\".txt\") and file != \"classes.txt\":\n",
        "\n",
        "        annotation_no_txt = os.path.splitext(file)[0]\n",
        "\n",
        "        imagePath = imgFolderPath + \"/\" + annotation_no_txt + \".jpg\"\n",
        "        if not os.path.isfile(imagePath):\n",
        "            imagePath = imgFolderPath + \"/\" + annotation_no_txt + \".jpeg\"\n",
        "            if not os.path.isfile(imagePath):\n",
        "              imagePath = imgFolderPath + \"/\" + annotation_no_txt + \".JPG\"\n",
        "\n",
        "        image = QImage()\n",
        "        image.load(imagePath)\n",
        "        imageShape = [image.height(), image.width(), 1 if image.isGrayscale() else 3]\n",
        "        imgFolderName = os.path.basename(imgFolderPath)\n",
        "        imgFileName = os.path.basename(imagePath)\n",
        "\n",
        "        writer = PascalVocWriter(imgFolderName, imgFileName, imageShape, localImgPath=imagePath)\n",
        "\n",
        "\n",
        "        # Read YOLO file\n",
        "        txtPath = imgFolderPath + \"/\" + file\n",
        "        tYoloParseReader = YoloReader(txtPath, image)\n",
        "        shapes = tYoloParseReader.getShapes()\n",
        "        num_of_box = len(shapes)\n",
        "\n",
        "        for i in range(num_of_box):\n",
        "            label = shapes[i][0]\n",
        "            xmin = shapes[i][1][0][0]\n",
        "            ymin = shapes[i][1][0][1]\n",
        "            x_max = shapes[i][1][2][0]\n",
        "            y_max = shapes[i][1][2][1]\n",
        "\n",
        "            writer.addBndBox(xmin, ymin, x_max, y_max, label, 0)\n",
        "\n",
        "        writer.save(targetFile= labels_voc_path + \"/\" + annotation_no_txt + \".xml\")\n"
      ],
      "execution_count": null,
      "outputs": []
    },
    {
      "cell_type": "markdown",
      "metadata": {
        "id": "32-8qvoTEipg"
      },
      "source": [
        "# Visualize Ground-Truth vs Predict in class"
      ]
    },
    {
      "cell_type": "code",
      "metadata": {
        "id": "jWpg7T2q3I0t"
      },
      "source": [
        "import pandas as pd\n",
        "import numpy as np\n",
        "def read_ann_pred(file):\n",
        "    filesize = os.path.getsize(file)\n",
        "    if filesize == 0:\n",
        "        return []\n",
        "    else:\n",
        "        ann = pd.read_csv(file, header = None, sep = ' ')\n",
        "        ann = ann[ann[0] == 3]\n",
        "        return np.array(ann.iloc[:,1:])"
      ],
      "execution_count": null,
      "outputs": []
    },
    {
      "cell_type": "code",
      "metadata": {
        "id": "n97-ep3d8DD3"
      },
      "source": [
        "import xml.etree.ElementTree as ET\n",
        "def read_ann_gt(file):\n",
        "    ann = []\n",
        "    tree = ET.parse(file)\n",
        "    root = tree.getroot()\n",
        "    for element in root:\n",
        "        if (element.tag=='object'):\n",
        "            if element[0].text == \"formula\":\n",
        "                ann.append([int(element[4][0].text), int(element[4][1].text),\n",
        "                        int(element[4][2].text), int(element[4][3].text)])\n",
        "    return ann"
      ],
      "execution_count": null,
      "outputs": []
    },
    {
      "cell_type": "code",
      "metadata": {
        "id": "x9rztppe_gWx"
      },
      "source": [
        "from PIL import Image\n",
        "from PIL import Image\n",
        "from PIL import ImageFont, ImageDraw\n",
        "def draw_bbox(image, gts, preds, save_folder):\n",
        "    img = Image.open(image)\n",
        "    if img.mode == 'L':\n",
        "        img = img.convert('RGB')\n",
        "    draw = ImageDraw.Draw(img, 'RGBA')\n",
        "    if len(preds) > 0:\n",
        "        for pred in preds:\n",
        "            draw.rectangle((pred[0], pred[1], pred[2], pred[3]),\n",
        "                        outline = (255, 0, 0), width = 5)\n",
        "    if len(gts) > 0:\n",
        "        for gt in gts:\n",
        "            draw.rectangle((gt[0], gt[1], gt[2], gt[3]),\n",
        "                        outline = (0, 255, 0),width = 5)\n",
        "    out_file = os.path.join(save_folder, image.split('/')[-1])\n",
        "    img.save(out_file)"
      ],
      "execution_count": null,
      "outputs": []
    },
    {
      "cell_type": "code",
      "metadata": {
        "id": "DMcJs1zjGoW8"
      },
      "source": [
        "for i in tqdm(os.listdir('imgs')):\n",
        "    img = os.path.join('imgs', i)\n",
        "\n",
        "    gt_file = (img.split('.')[0] + '.xml')\n",
        "    gt_file = gt_file.split('/')[-1]\n",
        "\n",
        "    pred_file = (img.split('.')[0] + '.txt')\n",
        "    pred_file = pred_file.split('/')[-1]\n",
        "\n",
        "\n",
        "\n",
        "    gt = read_ann_gt(os.path.join('gt', gt_file))\n",
        "    pred = read_ann_pred(os.path.join('predict_cascade', pred_file))\n",
        "\n",
        "    save = 'formula_cascade'\n",
        "\n",
        "    draw_bbox(img, gt, pred, save)"
      ],
      "execution_count": null,
      "outputs": []
    },
    {
      "cell_type": "code",
      "metadata": {
        "id": "ONF-YTiSI0Lq"
      },
      "source": [
        "for i in tqdm(os.listdir('imgs')):\n",
        "    img = os.path.join('imgs', i)\n",
        "\n",
        "    gt_file = (img.split('.')[0] + '.xml')\n",
        "    gt_file = gt_file.split('/')[-1]\n",
        "    pred_file = (img.split('.')[0] + '.txt')\n",
        "    pred_file = pred_file.split('/')[-1]\n",
        "\n",
        "    gt = read_ann_gt(os.path.join('gt', gt_file))\n",
        "    pred = read_ann_pred(os.path.join('predict_faster', pred_file))\n",
        "\n",
        "    save = 'formula_faster'\n",
        "\n",
        "    draw_bbox(img, gt, pred, save)"
      ],
      "execution_count": null,
      "outputs": []
    }
  ]
}